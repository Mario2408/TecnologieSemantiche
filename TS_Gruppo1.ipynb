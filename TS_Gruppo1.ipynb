{
  "cells": [
    {
      "cell_type": "code",
      "execution_count": null,
      "metadata": {
        "id": "Mdfb7AEPoQa-"
      },
      "outputs": [],
      "source": [
        "from google.colab import drive\n",
        "drive.mount('/content/drive')"
      ]
    },
    {
      "cell_type": "code",
      "execution_count": null,
      "metadata": {
        "id": "OyCKDRBJoduw"
      },
      "outputs": [],
      "source": [
        "import os\n",
        "os.chdir('/content/drive/Shared drives/TecnologieSemantiche')"
      ]
    },
    {
      "cell_type": "markdown",
      "source": [
        "#Initialization"
      ],
      "metadata": {
        "id": "jpRVH94L6JVF"
      }
    },
    {
      "cell_type": "code",
      "execution_count": null,
      "metadata": {
        "id": "1os4A0ZyiN3k"
      },
      "outputs": [],
      "source": [
        "!pip install ampligraph\n",
        "!pip install tensorflow==1.13.2"
      ]
    },
    {
      "cell_type": "code",
      "execution_count": null,
      "metadata": {
        "id": "i8Pwae1vh66E"
      },
      "outputs": [],
      "source": [
        "import numpy as np\n",
        "import pandas as pd\n",
        "import ampligraph\n",
        "import tensorflow as tf\n",
        "import requests\n",
        "from ampligraph.datasets import load_from_csv\n",
        "\n",
        "ampligraph.__version__"
      ]
    },
    {
      "cell_type": "markdown",
      "metadata": {
        "id": "fXwip-GULiZI"
      },
      "source": [
        "#EX1: Load Ampligraph Dataset"
      ]
    },
    {
      "cell_type": "code",
      "execution_count": null,
      "metadata": {
        "id": "Ryhj9JDKikT8"
      },
      "outputs": [],
      "source": [
        "'''import requests\n",
        "from ampligraph.datasets import load_from_csv\n",
        "url = 'https://ampligraph.s3-eu-west-1.amazonaws.com/datasets/GoT.csv'\n",
        "open('GoT.csv', 'wb').write(requests.get(url).content) \n",
        "X_ = load_from_csv('.', 'GoT.csv', sep=',')\n",
        "X_'''\n"
      ]
    },
    {
      "cell_type": "markdown",
      "metadata": {
        "id": "UxqBq0dMLmqM"
      },
      "source": [
        "#Load Our Dataset"
      ]
    },
    {
      "cell_type": "markdown",
      "source": [
        "##Generate dbpedia URIs for the dataset "
      ],
      "metadata": {
        "id": "i60gsr0WxDLg"
      }
    },
    {
      "cell_type": "code",
      "execution_count": null,
      "metadata": {
        "id": "FZr5-4tngzyK"
      },
      "outputs": [],
      "source": [
        "##Uncomment next lines if you need\n",
        "import csv \n",
        "\n",
        "df = pd.read_csv('Triple.csv', names=[\"subject\",\"relation\",\"object\"])\n",
        "\n",
        "dbpedia = \"http://dbpedia.org/resource/\"\n",
        "\n",
        "for index,row in df.iterrows():\n",
        "  s = dbpedia + row['subject'].replace(\" \",\"_\")\n",
        "  p = dbpedia + row['relation'].replace(\" \",\"_\")\n",
        "  o = dbpedia + row['object'].replace(\" \",\"_\")\n",
        "  \n",
        "  with open('HP_uri.csv', 'a+',newline='') as f:\n",
        "      writer = csv.writer(f)\n",
        "      writer.writerow([s,p,o])\n",
        "      f.close()\n"
      ]
    },
    {
      "cell_type": "code",
      "execution_count": null,
      "metadata": {
        "colab": {
          "base_uri": "https://localhost:8080/"
        },
        "id": "jr5D58_lOxhR",
        "outputId": "4b205cb5-aae7-44c4-c9a3-8f4dddb2b104"
      },
      "outputs": [
        {
          "output_type": "execute_result",
          "data": {
            "text/plain": [
              "array([['http://dbpedia.org/resource#subject',\n",
              "        'http://dbpedia.org/resource#relation',\n",
              "        'http://dbpedia.org/resource#object'],\n",
              "       ['http://dbpedia.org/resource#central_character',\n",
              "        'http://dbpedia.org/resource#is',\n",
              "        'http://dbpedia.org/resource#Harry_Potter'],\n",
              "       ['http://dbpedia.org/resource#central_character',\n",
              "        'http://dbpedia.org/resource#is',\n",
              "        'http://dbpedia.org/resource#wizard'],\n",
              "       ...,\n",
              "       ['http://dbpedia.org/resource#Harry',\n",
              "        'http://dbpedia.org/resource#awakens_faces',\n",
              "        'http://dbpedia.org/resource#Voldemort'],\n",
              "       ['http://dbpedia.org/resource#curse',\n",
              "        'http://dbpedia.org/resource#rebounds',\n",
              "        'http://dbpedia.org/resource#Harry'],\n",
              "       ['http://dbpedia.org/resource#lives',\n",
              "        'http://dbpedia.org/resource#surviving',\n",
              "        'http://dbpedia.org/resource#characters_effects_Voldemort']],\n",
              "      dtype=object)"
            ]
          },
          "metadata": {},
          "execution_count": 57
        }
      ],
      "source": [
        "with open('HP_uri_2.csv', 'rb') as f:\n",
        "  X = load_from_csv('.','HP_uri_2.csv', sep=',')\n",
        "  #X = X.to_numpy()\n",
        "X"
      ]
    },
    {
      "cell_type": "markdown",
      "source": [
        "#Train/Test"
      ],
      "metadata": {
        "id": "X-mxIJ5dxRNr"
      }
    },
    {
      "cell_type": "code",
      "execution_count": null,
      "metadata": {
        "colab": {
          "base_uri": "https://localhost:8080/"
        },
        "id": "qiVFQkBdioat",
        "outputId": "501ffb25-7f3a-48af-d828-4936bbde1a18"
      },
      "outputs": [
        {
          "output_type": "stream",
          "name": "stdout",
          "text": [
            "Train set size:  (861, 3)\n",
            "Test set size:  (215, 3)\n"
          ]
        }
      ],
      "source": [
        "from ampligraph.evaluation import train_test_split_no_unseen \n",
        "\n",
        "num_test = int(len(X) * (20 / 100))\n",
        "\n",
        "data = {}\n",
        "data['train'], data['test'] = train_test_split_no_unseen(X, test_size=num_test, seed=0, allow_duplication=False) \n",
        "\n",
        "print('Train set size: ', data['train'].shape)\n",
        "print('Test set size: ', data['test'].shape)"
      ]
    },
    {
      "cell_type": "code",
      "source": [
        "from ampligraph.latent_features import HolE\n",
        "\n",
        "#optimizer\n",
        "#adam     MRR = 0.44\n",
        "\n",
        "#loss\n",
        "#pairwise         MRR = 0.36\n",
        "\n",
        "#regularizer\n",
        "#'p':2  MRR = 0.44\n",
        "\n",
        "#lr\n",
        "#1e-4   MRR = 0.36\n",
        "model = HolE(batches_count=100, \n",
        "                seed=0, \n",
        "                epochs=200, \n",
        "                k=150, \n",
        "                eta=5,\n",
        "                optimizer='adam', \n",
        "                optimizer_params={'lr':1e-2}, \n",
        "                loss='multiclass_nll', \n",
        "                regularizer='LP', \n",
        "                regularizer_params={'p':3, 'lambda':1e-5}, \n",
        "                verbose=True)"
      ],
      "metadata": {
        "id": "3P-JY-Xh1o5w"
      },
      "execution_count": null,
      "outputs": []
    },
    {
      "cell_type": "markdown",
      "source": [
        "#Other models"
      ],
      "metadata": {
        "id": "u9Y96zHJxUYT"
      }
    },
    {
      "cell_type": "code",
      "execution_count": null,
      "metadata": {
        "id": "jA9OxgDSitOi"
      },
      "outputs": [],
      "source": [
        "from ampligraph.latent_features import ComplEx\n",
        "\n",
        "#MRR = 0.37\n",
        "model = ComplEx(batches_count=100, \n",
        "                seed=0, \n",
        "                epochs=200, \n",
        "                k=150, \n",
        "                eta=5,\n",
        "                optimizer='adam', \n",
        "                optimizer_params={'lr':1e-3}, #va peggio per 1e-2 e 1e-5\n",
        "                loss='multiclass_nll', \n",
        "                regularizer='LP', \n",
        "                regularizer_params={'p':3, 'lambda':1e-5}, \n",
        "                verbose=True)"
      ]
    },
    {
      "cell_type": "code",
      "source": [
        "from ampligraph.latent_features import TransE\n",
        "\n",
        "#MRR = 0.21\n",
        "model = TransE(batches_count=100, \n",
        "                seed=0, \n",
        "                epochs=200, \n",
        "                k=150, \n",
        "                eta=5,\n",
        "                optimizer='adam', \n",
        "                optimizer_params={'lr':1e-3}, \n",
        "                loss='multiclass_nll', \n",
        "                regularizer='LP', \n",
        "                regularizer_params={'p':3, 'lambda':1e-5}, \n",
        "                verbose=True)"
      ],
      "metadata": {
        "id": "tTURph1S3tZR"
      },
      "execution_count": null,
      "outputs": []
    },
    {
      "cell_type": "code",
      "source": [
        "from ampligraph.latent_features import DistMult\n",
        "\n",
        "#MRR= 0.34\n",
        "model = DistMult(batches_count=100, \n",
        "                seed=0, \n",
        "                epochs=200, \n",
        "                k=150, \n",
        "                eta=5,\n",
        "                optimizer='adam', \n",
        "                optimizer_params={'lr':1e-3}, \n",
        "                loss='multiclass_nll', \n",
        "                regularizer='LP', \n",
        "                regularizer_params={'p':3, 'lambda':1e-5}, \n",
        "                verbose=True)"
      ],
      "metadata": {
        "id": "2BYreBJO5iXh"
      },
      "execution_count": null,
      "outputs": []
    },
    {
      "cell_type": "markdown",
      "source": [
        "#Fit"
      ],
      "metadata": {
        "id": "BLIBvnCOxdFH"
      }
    },
    {
      "cell_type": "code",
      "execution_count": null,
      "metadata": {
        "colab": {
          "base_uri": "https://localhost:8080/"
        },
        "id": "ifsXkAMsjjST",
        "outputId": "401bf285-6646-498a-c203-8dfd4e559a29"
      },
      "outputs": [
        {
          "output_type": "stream",
          "name": "stderr",
          "text": [
            "Average HolE Loss:   0.275317: 100%|██████████| 200/200 [04:08<00:00,  1.24s/epoch]\n"
          ]
        }
      ],
      "source": [
        "tf.logging.set_verbosity(tf.logging.ERROR)\n",
        "\n",
        "model.fit(data['train'], early_stopping = False)"
      ]
    },
    {
      "cell_type": "markdown",
      "source": [
        "#Evaluate Test"
      ],
      "metadata": {
        "id": "XXOR_sjQxfP9"
      }
    },
    {
      "cell_type": "code",
      "execution_count": null,
      "metadata": {
        "colab": {
          "base_uri": "https://localhost:8080/"
        },
        "id": "gAJz8icdjoBs",
        "outputId": "93c5dfb6-3978-489d-b5f8-24852aae56c9"
      },
      "outputs": [
        {
          "output_type": "stream",
          "name": "stdout",
          "text": [
            "WARNING - DeprecationWarning: use_default_protocol will be removed in future. Please use corrupt_side argument instead.\n"
          ]
        },
        {
          "output_type": "stream",
          "name": "stderr",
          "text": [
            "100%|██████████| 215/215 [00:01<00:00, 139.79it/s]\n"
          ]
        }
      ],
      "source": [
        "from ampligraph.evaluation import evaluate_performance\n",
        "\n",
        "filter_triples = np.concatenate((data['train'], data['test']))\n",
        "ranks = evaluate_performance(data['test'], \n",
        "                             model=model, \n",
        "                             filter_triples=filter_triples,   # Corruption strategy filter defined above \n",
        "                             use_default_protocol=True, # corrupt subj and obj separately while evaluating\n",
        "                             verbose=True)"
      ]
    },
    {
      "cell_type": "code",
      "execution_count": null,
      "metadata": {
        "colab": {
          "base_uri": "https://localhost:8080/"
        },
        "id": "ERL8U6dbjsy-",
        "outputId": "aa543cbd-df82-4f93-f164-03345958ab5a"
      },
      "outputs": [
        {
          "output_type": "stream",
          "name": "stdout",
          "text": [
            "MRR: 0.73\n",
            "Hits@10: 0.77\n",
            "Hits@3: 0.75\n",
            "Hits@1: 0.71\n"
          ]
        }
      ],
      "source": [
        "from ampligraph.evaluation import mr_score, mrr_score, hits_at_n_score\n",
        "\n",
        "mrr = mrr_score(ranks)\n",
        "print(\"MRR: %.2f\" % (mrr))\n",
        "\n",
        "hits_10 = hits_at_n_score(ranks, n=10)\n",
        "print(\"Hits@10: %.2f\" % (hits_10))\n",
        "hits_3 = hits_at_n_score(ranks, n=3)\n",
        "print(\"Hits@3: %.2f\" % (hits_3))\n",
        "hits_1 = hits_at_n_score(ranks, n=1)\n",
        "print(\"Hits@1: %.2f\" % (hits_1))"
      ]
    },
    {
      "cell_type": "markdown",
      "source": [
        "#Evaluate Unseen triples"
      ],
      "metadata": {
        "id": "zpJ9KAvIxkah"
      }
    },
    {
      "cell_type": "code",
      "source": [
        "#GoT Unseen Triples\n",
        "X_unseen = np.array([\n",
        "    ['http://dbpedia.org/resource/Jorah_Mormont','http://dbpedia.org/resource/SPOUSE','http://dbpedia.org/resource/Daenerys_Targaryen'],\n",
        "    ['http://dbpedia.org/resource/Tyrion_Lannister','http://dbpedia.org/resource/SPOUSE','http://dbpedia.org/resource/Missandei'],\n",
        "    [\"http://dbpedia.org/resource/King's_Landing\",'http://dbpedia.org/resource/SEAT_OF','http://dbpedia.org/resource/House_Lannister_of_Casterly_Rock'],\n",
        "    ['http://dbpedia.org/resource/Sansa_Stark','http://dbpedia.org/resource/SPOUSE','http://dbpedia.org/resource/Petyr_Baelish'],\n",
        "    ['http://dbpedia.org/resource/Daenerys_Targaryen','http://dbpedia.org/resource/SPOUSE','http://dbpedia.org/resource/Jon_Snow'],\n",
        "    ['http://dbpedia.org/resource/Daenerys_Targaryen','http://dbpedia.org/resource/SPOUSE','http://dbpedia.org/resource/Craster'],\n",
        "    ['http://dbpedia.org/resource/House_Stark_of_Winterfell','http://dbpedia.org/resource/IN_REGION','http://dbpedia.org/resource/The_North'],\n",
        "    ['http://dbpedia.org/resource/House_Stark_of_Winterfell','http://dbpedia.org/resource/IN_REGION','http://dbpedia.org/resource/Dorne'],\n",
        "    ['http://dbpedia.org/resource/House_Tyrell_of_Highgarden','http://dbpedia.org/resource/IN_REGION','http://dbpedia.org/resource/Beyond_the_Wall'],\n",
        "    ['http://dbpedia.org/resource/Brandon_Stark','http://dbpedia.org/resource/ALLIED_WITH','http://dbpedia.org/resource/House_Stark_of_Winterfell'],\n",
        "    ['http://dbpedia.org/resource/Brandon_Stark','http://dbpedia.org/resource/ALLIED_WITH','http://dbpedia.org/resource/House_Lannister_of_Casterly_Rock'],    \n",
        "    ['http://dbpedia.org/resource/Rhaegar_Targaryen','http://dbpedia.org/resource/PARENT_OF','http://dbpedia.org/resource/Jon_Snow'],\n",
        "    ['http://dbpedia.org/resource/House_Hutcheson','http://dbpedia.org/resource/SWORN_TO','http://dbpedia.org/resource/House_Tyrell_of_Highgarden'],\n",
        "    ['http://dbpedia.org/resource/Daenerys_Targaryen','http://dbpedia.org/resource/ALLIED_WITH','http://dbpedia.org/resource/House_Stark_of_Winterfell'],\n",
        "    ['http://dbpedia.org/resource/Daenerys_Targaryen','http://dbpedia.org/resource/ALLIED_WITH','http://dbpedia.org/resource/House_Lannister_of_Casterly_Rock'],\n",
        "    ['http://dbpedia.org/resource/Jaime_Lannister','http://dbpedia.org/resource/PARENT_OF','http://dbpedia.org/resource/Myrcella_Baratheon'],\n",
        "    ['http://dbpedia.org/resource/Robert_I_Baratheon','http://dbpedia.org/resource/PARENT_OF','http://dbpedia.org/resource/Myrcella_Baratheon'],\n",
        "    ['http://dbpedia.org/resource/Cersei_Lannister','http://dbpedia.org/resource/PARENT_OF','http://dbpedia.org/resource/Myrcella_Baratheon'],\n",
        "    ['http://dbpedia.org/resource/Cersei_Lannister','http://dbpedia.org/resource/PARENT_OF','http://dbpedia.org/resource/Brandon_Stark'],\n",
        "    [\"http://dbpedia.org/resource/Tywin_Lannister\",'http://dbpedia.org/resource/PARENT_OF','http://dbpedia.org/resource/Jaime_Lannister'],\n",
        "    [\"http://dbpedia.org/resource/Missandei\",'http://dbpedia.org/resource/SPOUSE','http://dbpedia.org/resource/Grey_Worm'],\n",
        "    [\"http://dbpedia.org/resource/Brienne_of_Tarth\",'http://dbpedia.org/resource/SPOUSE','http://dbpedia.org/resource/Jaime_Lannister']\n",
        "])"
      ],
      "metadata": {
        "id": "7Dp11a_cJKLx"
      },
      "execution_count": null,
      "outputs": []
    },
    {
      "cell_type": "code",
      "source": [
        "#HP_unseen triples\n",
        "\n",
        "df = pd.read_csv('Unseen_uri.csv', names=[\"subject\",\"relation\",\"object\"])\n",
        "X_unseen = df.to_numpy()"
      ],
      "metadata": {
        "id": "CO0ihUCDK-aa"
      },
      "execution_count": null,
      "outputs": []
    },
    {
      "cell_type": "code",
      "execution_count": null,
      "metadata": {
        "colab": {
          "base_uri": "https://localhost:8080/"
        },
        "id": "uA-wlI3Wj0Ws",
        "outputId": "a19df7d6-1dce-4f9f-fee2-88f278016e16"
      },
      "outputs": [
        {
          "output_type": "stream",
          "name": "stderr",
          "text": [
            "100%|██████████| 35/35 [00:00<00:00, 106.72it/s]\n"
          ]
        }
      ],
      "source": [
        "unseen_filter = np.array(list({tuple(i) for i in np.vstack((filter_triples, X_unseen))}))\n",
        "\n",
        "ranks_unseen = evaluate_performance(\n",
        "    X_unseen, \n",
        "    model=model, \n",
        "    filter_triples=unseen_filter,   # Corruption strategy filter defined above \n",
        "    corrupt_side = 's+o',\n",
        "    use_default_protocol=False, # corrupt subj and obj separately while evaluating\n",
        "    verbose=True\n",
        ")\n",
        "\n",
        "scores = model.predict(X_unseen)"
      ]
    },
    {
      "cell_type": "code",
      "execution_count": null,
      "metadata": {
        "id": "43f2gxK3j5Bl",
        "colab": {
          "base_uri": "https://localhost:8080/",
          "height": 688
        },
        "outputId": "197269b0-3b98-49b5-cf89-10289e6c1300"
      },
      "outputs": [
        {
          "output_type": "execute_result",
          "data": {
            "text/html": [
              "\n",
              "  <div id=\"df-595ec32b-6b89-4108-9a6b-f5534bb2e91b\">\n",
              "    <div class=\"colab-df-container\">\n",
              "      <div>\n",
              "<style scoped>\n",
              "    .dataframe tbody tr th:only-of-type {\n",
              "        vertical-align: middle;\n",
              "    }\n",
              "\n",
              "    .dataframe tbody tr th {\n",
              "        vertical-align: top;\n",
              "    }\n",
              "\n",
              "    .dataframe thead th {\n",
              "        text-align: right;\n",
              "    }\n",
              "</style>\n",
              "<table border=\"1\" class=\"dataframe\">\n",
              "  <thead>\n",
              "    <tr style=\"text-align: right;\">\n",
              "      <th></th>\n",
              "      <th>statement</th>\n",
              "      <th>rank</th>\n",
              "      <th>score</th>\n",
              "      <th>prob</th>\n",
              "    </tr>\n",
              "  </thead>\n",
              "  <tbody>\n",
              "    <tr>\n",
              "      <th>11</th>\n",
              "      <td>http://dbpedia.org/resource#Ron http://dbpedia...</td>\n",
              "      <td>1523</td>\n",
              "      <td>-0.638364</td>\n",
              "      <td>0.345616</td>\n",
              "    </tr>\n",
              "    <tr>\n",
              "      <th>26</th>\n",
              "      <td>http://dbpedia.org/resource#Harry http://dbped...</td>\n",
              "      <td>1496</td>\n",
              "      <td>-0.517893</td>\n",
              "      <td>0.373345</td>\n",
              "    </tr>\n",
              "    <tr>\n",
              "      <th>34</th>\n",
              "      <td>http://dbpedia.org/resource#Lupin http://dbped...</td>\n",
              "      <td>1573</td>\n",
              "      <td>-0.495625</td>\n",
              "      <td>0.378569</td>\n",
              "    </tr>\n",
              "    <tr>\n",
              "      <th>32</th>\n",
              "      <td>http://dbpedia.org/resource#Snape http://dbped...</td>\n",
              "      <td>1448</td>\n",
              "      <td>-0.350880</td>\n",
              "      <td>0.413169</td>\n",
              "    </tr>\n",
              "    <tr>\n",
              "      <th>13</th>\n",
              "      <td>http://dbpedia.org/resource#Harry http://dbped...</td>\n",
              "      <td>1217</td>\n",
              "      <td>-0.294509</td>\n",
              "      <td>0.426900</td>\n",
              "    </tr>\n",
              "    <tr>\n",
              "      <th>5</th>\n",
              "      <td>http://dbpedia.org/resource#Harry_Potter http:...</td>\n",
              "      <td>1552</td>\n",
              "      <td>-0.260742</td>\n",
              "      <td>0.435181</td>\n",
              "    </tr>\n",
              "    <tr>\n",
              "      <th>25</th>\n",
              "      <td>http://dbpedia.org/resource#Tom_Marvolo_Riddle...</td>\n",
              "      <td>1378</td>\n",
              "      <td>-0.167682</td>\n",
              "      <td>0.458177</td>\n",
              "    </tr>\n",
              "    <tr>\n",
              "      <th>22</th>\n",
              "      <td>http://dbpedia.org/resource#Ron http://dbpedia...</td>\n",
              "      <td>1197</td>\n",
              "      <td>-0.136934</td>\n",
              "      <td>0.465820</td>\n",
              "    </tr>\n",
              "    <tr>\n",
              "      <th>14</th>\n",
              "      <td>http://dbpedia.org/resource#various_memories h...</td>\n",
              "      <td>1137</td>\n",
              "      <td>-0.090618</td>\n",
              "      <td>0.477361</td>\n",
              "    </tr>\n",
              "    <tr>\n",
              "      <th>7</th>\n",
              "      <td>http://dbpedia.org/resource#wizarding_Britain ...</td>\n",
              "      <td>1126</td>\n",
              "      <td>-0.089227</td>\n",
              "      <td>0.477708</td>\n",
              "    </tr>\n",
              "    <tr>\n",
              "      <th>29</th>\n",
              "      <td>http://dbpedia.org/resource#Hermione http://db...</td>\n",
              "      <td>1009</td>\n",
              "      <td>-0.072365</td>\n",
              "      <td>0.481917</td>\n",
              "    </tr>\n",
              "    <tr>\n",
              "      <th>15</th>\n",
              "      <td>http://dbpedia.org/resource#Harry http://dbped...</td>\n",
              "      <td>994</td>\n",
              "      <td>-0.059523</td>\n",
              "      <td>0.485124</td>\n",
              "    </tr>\n",
              "    <tr>\n",
              "      <th>16</th>\n",
              "      <td>http://dbpedia.org/resource#Lord_Voldemort htt...</td>\n",
              "      <td>1081</td>\n",
              "      <td>-0.059283</td>\n",
              "      <td>0.485184</td>\n",
              "    </tr>\n",
              "    <tr>\n",
              "      <th>8</th>\n",
              "      <td>http://dbpedia.org/resource#wizarding_Britain ...</td>\n",
              "      <td>877</td>\n",
              "      <td>-0.022482</td>\n",
              "      <td>0.494380</td>\n",
              "    </tr>\n",
              "    <tr>\n",
              "      <th>3</th>\n",
              "      <td>http://dbpedia.org/resource#Harry_Potter http:...</td>\n",
              "      <td>873</td>\n",
              "      <td>-0.016409</td>\n",
              "      <td>0.495898</td>\n",
              "    </tr>\n",
              "    <tr>\n",
              "      <th>33</th>\n",
              "      <td>http://dbpedia.org/resource#dark_creatures htt...</td>\n",
              "      <td>909</td>\n",
              "      <td>-0.012711</td>\n",
              "      <td>0.496822</td>\n",
              "    </tr>\n",
              "    <tr>\n",
              "      <th>4</th>\n",
              "      <td>http://dbpedia.org/resource#Harry_Potter http:...</td>\n",
              "      <td>849</td>\n",
              "      <td>-0.000532</td>\n",
              "      <td>0.499867</td>\n",
              "    </tr>\n",
              "    <tr>\n",
              "      <th>20</th>\n",
              "      <td>http://dbpedia.org/resource#Harry http://dbped...</td>\n",
              "      <td>754</td>\n",
              "      <td>0.011821</td>\n",
              "      <td>0.502955</td>\n",
              "    </tr>\n",
              "    <tr>\n",
              "      <th>28</th>\n",
              "      <td>http://dbpedia.org/resource#action http://dbpe...</td>\n",
              "      <td>607</td>\n",
              "      <td>0.025528</td>\n",
              "      <td>0.506382</td>\n",
              "    </tr>\n",
              "    <tr>\n",
              "      <th>31</th>\n",
              "      <td>http://dbpedia.org/resource#Snape http://dbped...</td>\n",
              "      <td>581</td>\n",
              "      <td>0.031738</td>\n",
              "      <td>0.507934</td>\n",
              "    </tr>\n",
              "    <tr>\n",
              "      <th>19</th>\n",
              "      <td>http://dbpedia.org/resource#Harry http://dbped...</td>\n",
              "      <td>659</td>\n",
              "      <td>0.044234</td>\n",
              "      <td>0.511057</td>\n",
              "    </tr>\n",
              "    <tr>\n",
              "      <th>0</th>\n",
              "      <td>http://dbpedia.org/resource#central_character ...</td>\n",
              "      <td>380</td>\n",
              "      <td>0.062839</td>\n",
              "      <td>0.515705</td>\n",
              "    </tr>\n",
              "    <tr>\n",
              "      <th>12</th>\n",
              "      <td>http://dbpedia.org/resource#Hagrid http://dbpe...</td>\n",
              "      <td>104</td>\n",
              "      <td>0.124101</td>\n",
              "      <td>0.530986</td>\n",
              "    </tr>\n",
              "    <tr>\n",
              "      <th>21</th>\n",
              "      <td>http://dbpedia.org/resource#Ron http://dbpedia...</td>\n",
              "      <td>300</td>\n",
              "      <td>0.126035</td>\n",
              "      <td>0.531467</td>\n",
              "    </tr>\n",
              "    <tr>\n",
              "      <th>17</th>\n",
              "      <td>http://dbpedia.org/resource#Ron_Hermione_drop_...</td>\n",
              "      <td>266</td>\n",
              "      <td>0.142160</td>\n",
              "      <td>0.535480</td>\n",
              "    </tr>\n",
              "    <tr>\n",
              "      <th>1</th>\n",
              "      <td>http://dbpedia.org/resource#central_character ...</td>\n",
              "      <td>324</td>\n",
              "      <td>0.155674</td>\n",
              "      <td>0.538840</td>\n",
              "    </tr>\n",
              "    <tr>\n",
              "      <th>9</th>\n",
              "      <td>http://dbpedia.org/resource#famous_magic_schoo...</td>\n",
              "      <td>152</td>\n",
              "      <td>0.169540</td>\n",
              "      <td>0.542284</td>\n",
              "    </tr>\n",
              "    <tr>\n",
              "      <th>30</th>\n",
              "      <td>http://dbpedia.org/resource#Harry http://dbped...</td>\n",
              "      <td>290</td>\n",
              "      <td>0.193154</td>\n",
              "      <td>0.548139</td>\n",
              "    </tr>\n",
              "    <tr>\n",
              "      <th>10</th>\n",
              "      <td>http://dbpedia.org/resource#Ron http://dbpedia...</td>\n",
              "      <td>234</td>\n",
              "      <td>0.267281</td>\n",
              "      <td>0.566425</td>\n",
              "    </tr>\n",
              "    <tr>\n",
              "      <th>6</th>\n",
              "      <td>http://dbpedia.org/resource#wizarding_Britain ...</td>\n",
              "      <td>33</td>\n",
              "      <td>0.341399</td>\n",
              "      <td>0.584530</td>\n",
              "    </tr>\n",
              "    <tr>\n",
              "      <th>2</th>\n",
              "      <td>http://dbpedia.org/resource#Surrey http://dbpe...</td>\n",
              "      <td>178</td>\n",
              "      <td>0.470648</td>\n",
              "      <td>0.615537</td>\n",
              "    </tr>\n",
              "    <tr>\n",
              "      <th>24</th>\n",
              "      <td>http://dbpedia.org/resource#Hermione http://db...</td>\n",
              "      <td>132</td>\n",
              "      <td>0.529717</td>\n",
              "      <td>0.629417</td>\n",
              "    </tr>\n",
              "    <tr>\n",
              "      <th>27</th>\n",
              "      <td>http://dbpedia.org/resource#Harry_Potter http:...</td>\n",
              "      <td>7</td>\n",
              "      <td>0.995072</td>\n",
              "      <td>0.730089</td>\n",
              "    </tr>\n",
              "    <tr>\n",
              "      <th>23</th>\n",
              "      <td>http://dbpedia.org/resource#Ron http://dbpedia...</td>\n",
              "      <td>3</td>\n",
              "      <td>1.593562</td>\n",
              "      <td>0.831117</td>\n",
              "    </tr>\n",
              "    <tr>\n",
              "      <th>18</th>\n",
              "      <td>http://dbpedia.org/resource#Hermione http://db...</td>\n",
              "      <td>6</td>\n",
              "      <td>2.530813</td>\n",
              "      <td>0.926274</td>\n",
              "    </tr>\n",
              "  </tbody>\n",
              "</table>\n",
              "</div>\n",
              "      <button class=\"colab-df-convert\" onclick=\"convertToInteractive('df-595ec32b-6b89-4108-9a6b-f5534bb2e91b')\"\n",
              "              title=\"Convert this dataframe to an interactive table.\"\n",
              "              style=\"display:none;\">\n",
              "        \n",
              "  <svg xmlns=\"http://www.w3.org/2000/svg\" height=\"24px\"viewBox=\"0 0 24 24\"\n",
              "       width=\"24px\">\n",
              "    <path d=\"M0 0h24v24H0V0z\" fill=\"none\"/>\n",
              "    <path d=\"M18.56 5.44l.94 2.06.94-2.06 2.06-.94-2.06-.94-.94-2.06-.94 2.06-2.06.94zm-11 1L8.5 8.5l.94-2.06 2.06-.94-2.06-.94L8.5 2.5l-.94 2.06-2.06.94zm10 10l.94 2.06.94-2.06 2.06-.94-2.06-.94-.94-2.06-.94 2.06-2.06.94z\"/><path d=\"M17.41 7.96l-1.37-1.37c-.4-.4-.92-.59-1.43-.59-.52 0-1.04.2-1.43.59L10.3 9.45l-7.72 7.72c-.78.78-.78 2.05 0 2.83L4 21.41c.39.39.9.59 1.41.59.51 0 1.02-.2 1.41-.59l7.78-7.78 2.81-2.81c.8-.78.8-2.07 0-2.86zM5.41 20L4 18.59l7.72-7.72 1.47 1.35L5.41 20z\"/>\n",
              "  </svg>\n",
              "      </button>\n",
              "      \n",
              "  <style>\n",
              "    .colab-df-container {\n",
              "      display:flex;\n",
              "      flex-wrap:wrap;\n",
              "      gap: 12px;\n",
              "    }\n",
              "\n",
              "    .colab-df-convert {\n",
              "      background-color: #E8F0FE;\n",
              "      border: none;\n",
              "      border-radius: 50%;\n",
              "      cursor: pointer;\n",
              "      display: none;\n",
              "      fill: #1967D2;\n",
              "      height: 32px;\n",
              "      padding: 0 0 0 0;\n",
              "      width: 32px;\n",
              "    }\n",
              "\n",
              "    .colab-df-convert:hover {\n",
              "      background-color: #E2EBFA;\n",
              "      box-shadow: 0px 1px 2px rgba(60, 64, 67, 0.3), 0px 1px 3px 1px rgba(60, 64, 67, 0.15);\n",
              "      fill: #174EA6;\n",
              "    }\n",
              "\n",
              "    [theme=dark] .colab-df-convert {\n",
              "      background-color: #3B4455;\n",
              "      fill: #D2E3FC;\n",
              "    }\n",
              "\n",
              "    [theme=dark] .colab-df-convert:hover {\n",
              "      background-color: #434B5C;\n",
              "      box-shadow: 0px 1px 3px 1px rgba(0, 0, 0, 0.15);\n",
              "      filter: drop-shadow(0px 1px 2px rgba(0, 0, 0, 0.3));\n",
              "      fill: #FFFFFF;\n",
              "    }\n",
              "  </style>\n",
              "\n",
              "      <script>\n",
              "        const buttonEl =\n",
              "          document.querySelector('#df-595ec32b-6b89-4108-9a6b-f5534bb2e91b button.colab-df-convert');\n",
              "        buttonEl.style.display =\n",
              "          google.colab.kernel.accessAllowed ? 'block' : 'none';\n",
              "\n",
              "        async function convertToInteractive(key) {\n",
              "          const element = document.querySelector('#df-595ec32b-6b89-4108-9a6b-f5534bb2e91b');\n",
              "          const dataTable =\n",
              "            await google.colab.kernel.invokeFunction('convertToInteractive',\n",
              "                                                     [key], {});\n",
              "          if (!dataTable) return;\n",
              "\n",
              "          const docLinkHtml = 'Like what you see? Visit the ' +\n",
              "            '<a target=\"_blank\" href=https://colab.research.google.com/notebooks/data_table.ipynb>data table notebook</a>'\n",
              "            + ' to learn more about interactive tables.';\n",
              "          element.innerHTML = '';\n",
              "          dataTable['output_type'] = 'display_data';\n",
              "          await google.colab.output.renderOutput(dataTable, element);\n",
              "          const docLink = document.createElement('div');\n",
              "          docLink.innerHTML = docLinkHtml;\n",
              "          element.appendChild(docLink);\n",
              "        }\n",
              "      </script>\n",
              "    </div>\n",
              "  </div>\n",
              "  "
            ],
            "text/plain": [
              "                                            statement  rank     score      prob\n",
              "11  http://dbpedia.org/resource#Ron http://dbpedia...  1523 -0.638364  0.345616\n",
              "26  http://dbpedia.org/resource#Harry http://dbped...  1496 -0.517893  0.373345\n",
              "34  http://dbpedia.org/resource#Lupin http://dbped...  1573 -0.495625  0.378569\n",
              "32  http://dbpedia.org/resource#Snape http://dbped...  1448 -0.350880  0.413169\n",
              "13  http://dbpedia.org/resource#Harry http://dbped...  1217 -0.294509  0.426900\n",
              "5   http://dbpedia.org/resource#Harry_Potter http:...  1552 -0.260742  0.435181\n",
              "25  http://dbpedia.org/resource#Tom_Marvolo_Riddle...  1378 -0.167682  0.458177\n",
              "22  http://dbpedia.org/resource#Ron http://dbpedia...  1197 -0.136934  0.465820\n",
              "14  http://dbpedia.org/resource#various_memories h...  1137 -0.090618  0.477361\n",
              "7   http://dbpedia.org/resource#wizarding_Britain ...  1126 -0.089227  0.477708\n",
              "29  http://dbpedia.org/resource#Hermione http://db...  1009 -0.072365  0.481917\n",
              "15  http://dbpedia.org/resource#Harry http://dbped...   994 -0.059523  0.485124\n",
              "16  http://dbpedia.org/resource#Lord_Voldemort htt...  1081 -0.059283  0.485184\n",
              "8   http://dbpedia.org/resource#wizarding_Britain ...   877 -0.022482  0.494380\n",
              "3   http://dbpedia.org/resource#Harry_Potter http:...   873 -0.016409  0.495898\n",
              "33  http://dbpedia.org/resource#dark_creatures htt...   909 -0.012711  0.496822\n",
              "4   http://dbpedia.org/resource#Harry_Potter http:...   849 -0.000532  0.499867\n",
              "20  http://dbpedia.org/resource#Harry http://dbped...   754  0.011821  0.502955\n",
              "28  http://dbpedia.org/resource#action http://dbpe...   607  0.025528  0.506382\n",
              "31  http://dbpedia.org/resource#Snape http://dbped...   581  0.031738  0.507934\n",
              "19  http://dbpedia.org/resource#Harry http://dbped...   659  0.044234  0.511057\n",
              "0   http://dbpedia.org/resource#central_character ...   380  0.062839  0.515705\n",
              "12  http://dbpedia.org/resource#Hagrid http://dbpe...   104  0.124101  0.530986\n",
              "21  http://dbpedia.org/resource#Ron http://dbpedia...   300  0.126035  0.531467\n",
              "17  http://dbpedia.org/resource#Ron_Hermione_drop_...   266  0.142160  0.535480\n",
              "1   http://dbpedia.org/resource#central_character ...   324  0.155674  0.538840\n",
              "9   http://dbpedia.org/resource#famous_magic_schoo...   152  0.169540  0.542284\n",
              "30  http://dbpedia.org/resource#Harry http://dbped...   290  0.193154  0.548139\n",
              "10  http://dbpedia.org/resource#Ron http://dbpedia...   234  0.267281  0.566425\n",
              "6   http://dbpedia.org/resource#wizarding_Britain ...    33  0.341399  0.584530\n",
              "2   http://dbpedia.org/resource#Surrey http://dbpe...   178  0.470648  0.615537\n",
              "24  http://dbpedia.org/resource#Hermione http://db...   132  0.529717  0.629417\n",
              "27  http://dbpedia.org/resource#Harry_Potter http:...     7  0.995072  0.730089\n",
              "23  http://dbpedia.org/resource#Ron http://dbpedia...     3  1.593562  0.831117\n",
              "18  http://dbpedia.org/resource#Hermione http://db...     6  2.530813  0.926274"
            ]
          },
          "metadata": {},
          "execution_count": 63
        }
      ],
      "source": [
        "from scipy.special import expit\n",
        "probs = expit(scores)\n",
        "\n",
        "output = pd.DataFrame(list(zip([' '.join(x) for x in X_unseen], \n",
        "                      ranks_unseen, \n",
        "                      np.squeeze(scores),\n",
        "                      np.squeeze(probs))), \n",
        "             columns=['statement', 'rank', 'score', 'prob']).sort_values(\"score\")\n",
        "\n",
        "output"
      ]
    },
    {
      "cell_type": "markdown",
      "source": [
        "#Save Evaluated statements in nt format"
      ],
      "metadata": {
        "id": "zvQT-d57xuW1"
      }
    },
    {
      "cell_type": "code",
      "source": [
        "##Convert triples in nt format\n",
        "import pandas as pd \n",
        "\n",
        "lines = []\n",
        "th = 1000\n",
        "\n",
        "for index, row in output.iterrows():\n",
        "  if row['rank'] < th:\n",
        "      #print(row['prob'])\n",
        "      statement = row['statement']\n",
        "      subject,predicate,objectt = statement.split(\" \")\n",
        "      s = \"<\" + subject.replace(\" \",\"_\") + \">\"\n",
        "      p = \"<\" + predicate.replace(\" \",\"_\") + \">\"\n",
        "      o = \"<\" + objectt.replace(\" \",\"_\") + \"> .\"\n",
        "      lines.append(s + \" \" + p + \" \" + o)\n",
        "\n",
        "with open('triples.nt', 'w+') as f:\n",
        "    f.write('\\n'.join(lines))"
      ],
      "metadata": {
        "id": "uoQ8ydbZsRf9"
      },
      "execution_count": null,
      "outputs": []
    }
  ],
  "metadata": {
    "colab": {
      "collapsed_sections": [],
      "name": "TS_Gruppo1.ipynb",
      "provenance": []
    },
    "kernelspec": {
      "display_name": "Python 3",
      "name": "python3"
    },
    "language_info": {
      "name": "python"
    }
  },
  "nbformat": 4,
  "nbformat_minor": 0
}