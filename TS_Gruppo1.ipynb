{
  "cells": [
    {
      "cell_type": "code",
      "execution_count": 1,
      "metadata": {
        "colab": {
          "base_uri": "https://localhost:8080/"
        },
        "id": "Mdfb7AEPoQa-",
        "outputId": "564252a9-2036-40ce-b2a0-84bba0db2a3f"
      },
      "outputs": [
        {
          "output_type": "stream",
          "name": "stdout",
          "text": [
            "Mounted at /content/drive\n"
          ]
        }
      ],
      "source": [
        "from google.colab import drive\n",
        "drive.mount('/content/drive')"
      ]
    },
    {
      "cell_type": "code",
      "execution_count": 2,
      "metadata": {
        "id": "OyCKDRBJoduw"
      },
      "outputs": [],
      "source": [
        "import os\n",
        "os.chdir('/content/drive/Shared drives/TecnologieSemantiche')"
      ]
    },
    {
      "cell_type": "markdown",
      "source": [
        "#Initialization"
      ],
      "metadata": {
        "id": "jpRVH94L6JVF"
      }
    },
    {
      "cell_type": "code",
      "execution_count": 3,
      "metadata": {
        "colab": {
          "base_uri": "https://localhost:8080/",
          "height": 1000
        },
        "id": "1os4A0ZyiN3k",
        "outputId": "3816bb13-1312-4362-efd4-ac3d66aaee21"
      },
      "outputs": [
        {
          "output_type": "stream",
          "name": "stdout",
          "text": [
            "Collecting ampligraph\n",
            "  Downloading ampligraph-1.4.0-py3-none-any.whl (168 kB)\n",
            "\u001b[?25l\r\u001b[K     |██                              | 10 kB 24.3 MB/s eta 0:00:01\r\u001b[K     |███▉                            | 20 kB 12.1 MB/s eta 0:00:01\r\u001b[K     |█████▉                          | 30 kB 10.6 MB/s eta 0:00:01\r\u001b[K     |███████▊                        | 40 kB 9.0 MB/s eta 0:00:01\r\u001b[K     |█████████▊                      | 51 kB 4.8 MB/s eta 0:00:01\r\u001b[K     |███████████▋                    | 61 kB 5.6 MB/s eta 0:00:01\r\u001b[K     |█████████████▋                  | 71 kB 5.7 MB/s eta 0:00:01\r\u001b[K     |███████████████▌                | 81 kB 4.3 MB/s eta 0:00:01\r\u001b[K     |█████████████████▌              | 92 kB 4.7 MB/s eta 0:00:01\r\u001b[K     |███████████████████▍            | 102 kB 5.2 MB/s eta 0:00:01\r\u001b[K     |█████████████████████▍          | 112 kB 5.2 MB/s eta 0:00:01\r\u001b[K     |███████████████████████▎        | 122 kB 5.2 MB/s eta 0:00:01\r\u001b[K     |█████████████████████████▎      | 133 kB 5.2 MB/s eta 0:00:01\r\u001b[K     |███████████████████████████▏    | 143 kB 5.2 MB/s eta 0:00:01\r\u001b[K     |█████████████████████████████▏  | 153 kB 5.2 MB/s eta 0:00:01\r\u001b[K     |███████████████████████████████ | 163 kB 5.2 MB/s eta 0:00:01\r\u001b[K     |████████████████████████████████| 168 kB 5.2 MB/s \n",
            "\u001b[?25hRequirement already satisfied: pandas>=0.23.1 in /usr/local/lib/python3.7/dist-packages (from ampligraph) (1.3.5)\n",
            "Collecting rdflib>=4.2.2\n",
            "  Downloading rdflib-6.1.1-py3-none-any.whl (482 kB)\n",
            "\u001b[K     |████████████████████████████████| 482 kB 44.3 MB/s \n",
            "\u001b[?25hRequirement already satisfied: scikit-learn>=0.19.1 in /usr/local/lib/python3.7/dist-packages (from ampligraph) (1.0.2)\n",
            "Requirement already satisfied: scipy>=1.3.0 in /usr/local/lib/python3.7/dist-packages (from ampligraph) (1.4.1)\n",
            "Requirement already satisfied: numpy>=1.14.3 in /usr/local/lib/python3.7/dist-packages (from ampligraph) (1.21.5)\n",
            "Collecting sphinx<3,>=2.2\n",
            "  Downloading Sphinx-2.4.5-py3-none-any.whl (2.7 MB)\n",
            "\u001b[K     |████████████████████████████████| 2.7 MB 44.6 MB/s \n",
            "\u001b[?25hCollecting sphinx-rtd-theme==0.4.3\n",
            "  Downloading sphinx_rtd_theme-0.4.3-py2.py3-none-any.whl (6.4 MB)\n",
            "\u001b[K     |████████████████████████████████| 6.4 MB 37.5 MB/s \n",
            "\u001b[?25hCollecting beautifultable>=0.7.0\n",
            "  Downloading beautifultable-1.0.1-py2.py3-none-any.whl (27 kB)\n",
            "Requirement already satisfied: networkx>=2.3 in /usr/local/lib/python3.7/dist-packages (from ampligraph) (2.6.3)\n",
            "Requirement already satisfied: setuptools>=36 in /usr/local/lib/python3.7/dist-packages (from ampligraph) (57.4.0)\n",
            "Collecting flake8>=3.7.7\n",
            "  Downloading flake8-4.0.1-py2.py3-none-any.whl (64 kB)\n",
            "\u001b[K     |████████████████████████████████| 64 kB 2.6 MB/s \n",
            "\u001b[?25hRequirement already satisfied: pyyaml>=3.13 in /usr/local/lib/python3.7/dist-packages (from ampligraph) (3.13)\n",
            "Collecting recommonmark==0.4.0\n",
            "  Downloading recommonmark-0.4.0-py2.py3-none-any.whl (9.4 kB)\n",
            "Collecting sphinxcontrib-bibtex==0.4.2\n",
            "  Downloading sphinxcontrib_bibtex-0.4.2-py2.py3-none-any.whl (15 kB)\n",
            "Requirement already satisfied: tqdm>=4.23.4 in /usr/local/lib/python3.7/dist-packages (from ampligraph) (4.62.3)\n",
            "Requirement already satisfied: pytest>=3.5.1 in /usr/local/lib/python3.7/dist-packages (from ampligraph) (3.6.4)\n",
            "Collecting commonmark<=0.5.4\n",
            "  Downloading CommonMark-0.5.4.tar.gz (120 kB)\n",
            "\u001b[K     |████████████████████████████████| 120 kB 59.3 MB/s \n",
            "\u001b[?25hRequirement already satisfied: docutils>=0.11 in /usr/local/lib/python3.7/dist-packages (from recommonmark==0.4.0->ampligraph) (0.17.1)\n",
            "Collecting pybtex-docutils>=0.2.0\n",
            "  Downloading pybtex_docutils-1.0.1-py3-none-any.whl (4.8 kB)\n",
            "Requirement already satisfied: six>=1.4.1 in /usr/local/lib/python3.7/dist-packages (from sphinxcontrib-bibtex==0.4.2->ampligraph) (1.15.0)\n",
            "Collecting oset>=0.1.3\n",
            "  Downloading oset-0.1.3.tar.gz (7.3 kB)\n",
            "Collecting pybtex>=0.20\n",
            "  Downloading pybtex-0.24.0-py2.py3-none-any.whl (561 kB)\n",
            "\u001b[K     |████████████████████████████████| 561 kB 45.6 MB/s \n",
            "\u001b[?25hRequirement already satisfied: wcwidth in /usr/local/lib/python3.7/dist-packages (from beautifultable>=0.7.0->ampligraph) (0.2.5)\n",
            "Collecting mccabe<0.7.0,>=0.6.0\n",
            "  Downloading mccabe-0.6.1-py2.py3-none-any.whl (8.6 kB)\n",
            "Collecting importlib-metadata<4.3\n",
            "  Downloading importlib_metadata-4.2.0-py3-none-any.whl (16 kB)\n",
            "Collecting pycodestyle<2.9.0,>=2.8.0\n",
            "  Downloading pycodestyle-2.8.0-py2.py3-none-any.whl (42 kB)\n",
            "\u001b[K     |████████████████████████████████| 42 kB 916 kB/s \n",
            "\u001b[?25hCollecting pyflakes<2.5.0,>=2.4.0\n",
            "  Downloading pyflakes-2.4.0-py2.py3-none-any.whl (69 kB)\n",
            "\u001b[K     |████████████████████████████████| 69 kB 7.4 MB/s \n",
            "\u001b[?25hRequirement already satisfied: zipp>=0.5 in /usr/local/lib/python3.7/dist-packages (from importlib-metadata<4.3->flake8>=3.7.7->ampligraph) (3.7.0)\n",
            "Requirement already satisfied: typing-extensions>=3.6.4 in /usr/local/lib/python3.7/dist-packages (from importlib-metadata<4.3->flake8>=3.7.7->ampligraph) (3.10.0.2)\n",
            "Requirement already satisfied: python-dateutil>=2.7.3 in /usr/local/lib/python3.7/dist-packages (from pandas>=0.23.1->ampligraph) (2.8.2)\n",
            "Requirement already satisfied: pytz>=2017.3 in /usr/local/lib/python3.7/dist-packages (from pandas>=0.23.1->ampligraph) (2018.9)\n",
            "Collecting latexcodec>=1.0.4\n",
            "  Downloading latexcodec-2.0.1-py2.py3-none-any.whl (18 kB)\n",
            "Requirement already satisfied: attrs>=17.4.0 in /usr/local/lib/python3.7/dist-packages (from pytest>=3.5.1->ampligraph) (21.4.0)\n",
            "Requirement already satisfied: more-itertools>=4.0.0 in /usr/local/lib/python3.7/dist-packages (from pytest>=3.5.1->ampligraph) (8.12.0)\n",
            "Requirement already satisfied: pluggy<0.8,>=0.5 in /usr/local/lib/python3.7/dist-packages (from pytest>=3.5.1->ampligraph) (0.7.1)\n",
            "Requirement already satisfied: py>=1.5.0 in /usr/local/lib/python3.7/dist-packages (from pytest>=3.5.1->ampligraph) (1.11.0)\n",
            "Requirement already satisfied: atomicwrites>=1.0 in /usr/local/lib/python3.7/dist-packages (from pytest>=3.5.1->ampligraph) (1.4.0)\n",
            "Collecting isodate\n",
            "  Downloading isodate-0.6.1-py2.py3-none-any.whl (41 kB)\n",
            "\u001b[K     |████████████████████████████████| 41 kB 535 kB/s \n",
            "\u001b[?25hRequirement already satisfied: pyparsing in /usr/local/lib/python3.7/dist-packages (from rdflib>=4.2.2->ampligraph) (3.0.7)\n",
            "Requirement already satisfied: threadpoolctl>=2.0.0 in /usr/local/lib/python3.7/dist-packages (from scikit-learn>=0.19.1->ampligraph) (3.1.0)\n",
            "Requirement already satisfied: joblib>=0.11 in /usr/local/lib/python3.7/dist-packages (from scikit-learn>=0.19.1->ampligraph) (1.1.0)\n",
            "Requirement already satisfied: babel!=2.0,>=1.3 in /usr/local/lib/python3.7/dist-packages (from sphinx<3,>=2.2->ampligraph) (2.9.1)\n",
            "Requirement already satisfied: packaging in /usr/local/lib/python3.7/dist-packages (from sphinx<3,>=2.2->ampligraph) (21.3)\n",
            "Collecting sphinxcontrib-qthelp\n",
            "  Downloading sphinxcontrib_qthelp-1.0.3-py2.py3-none-any.whl (90 kB)\n",
            "\u001b[K     |████████████████████████████████| 90 kB 10.3 MB/s \n",
            "\u001b[?25hRequirement already satisfied: alabaster<0.8,>=0.7 in /usr/local/lib/python3.7/dist-packages (from sphinx<3,>=2.2->ampligraph) (0.7.12)\n",
            "Requirement already satisfied: requests>=2.5.0 in /usr/local/lib/python3.7/dist-packages (from sphinx<3,>=2.2->ampligraph) (2.23.0)\n",
            "Requirement already satisfied: sphinxcontrib-serializinghtml in /usr/local/lib/python3.7/dist-packages (from sphinx<3,>=2.2->ampligraph) (1.1.5)\n",
            "Requirement already satisfied: imagesize in /usr/local/lib/python3.7/dist-packages (from sphinx<3,>=2.2->ampligraph) (1.3.0)\n",
            "Collecting sphinxcontrib-applehelp\n",
            "  Downloading sphinxcontrib_applehelp-1.0.2-py2.py3-none-any.whl (121 kB)\n",
            "\u001b[K     |████████████████████████████████| 121 kB 54.9 MB/s \n",
            "\u001b[?25hCollecting sphinxcontrib-devhelp\n",
            "  Downloading sphinxcontrib_devhelp-1.0.2-py2.py3-none-any.whl (84 kB)\n",
            "\u001b[K     |████████████████████████████████| 84 kB 3.8 MB/s \n",
            "\u001b[?25hRequirement already satisfied: Jinja2>=2.3 in /usr/local/lib/python3.7/dist-packages (from sphinx<3,>=2.2->ampligraph) (2.11.3)\n",
            "Requirement already satisfied: Pygments>=2.0 in /usr/local/lib/python3.7/dist-packages (from sphinx<3,>=2.2->ampligraph) (2.6.1)\n",
            "Requirement already satisfied: snowballstemmer>=1.1 in /usr/local/lib/python3.7/dist-packages (from sphinx<3,>=2.2->ampligraph) (2.2.0)\n",
            "Collecting sphinxcontrib-htmlhelp\n",
            "  Downloading sphinxcontrib_htmlhelp-2.0.0-py2.py3-none-any.whl (100 kB)\n",
            "\u001b[K     |████████████████████████████████| 100 kB 9.0 MB/s \n",
            "\u001b[?25hCollecting sphinxcontrib-jsmath\n",
            "  Downloading sphinxcontrib_jsmath-1.0.1-py2.py3-none-any.whl (5.1 kB)\n",
            "Requirement already satisfied: MarkupSafe>=0.23 in /usr/local/lib/python3.7/dist-packages (from Jinja2>=2.3->sphinx<3,>=2.2->ampligraph) (2.0.1)\n",
            "Requirement already satisfied: idna<3,>=2.5 in /usr/local/lib/python3.7/dist-packages (from requests>=2.5.0->sphinx<3,>=2.2->ampligraph) (2.10)\n",
            "Requirement already satisfied: chardet<4,>=3.0.2 in /usr/local/lib/python3.7/dist-packages (from requests>=2.5.0->sphinx<3,>=2.2->ampligraph) (3.0.4)\n",
            "Requirement already satisfied: certifi>=2017.4.17 in /usr/local/lib/python3.7/dist-packages (from requests>=2.5.0->sphinx<3,>=2.2->ampligraph) (2021.10.8)\n",
            "Requirement already satisfied: urllib3!=1.25.0,!=1.25.1,<1.26,>=1.21.1 in /usr/local/lib/python3.7/dist-packages (from requests>=2.5.0->sphinx<3,>=2.2->ampligraph) (1.24.3)\n",
            "Building wheels for collected packages: commonmark, oset\n",
            "  Building wheel for commonmark (setup.py) ... \u001b[?25l\u001b[?25hdone\n",
            "  Created wheel for commonmark: filename=CommonMark-0.5.4-py3-none-any.whl size=30768 sha256=b9275850d8934b2fa83492a44edf24d5351c2a1b84dfd1f33c58406c1c9632d4\n",
            "  Stored in directory: /root/.cache/pip/wheels/d5/28/c7/ce1ffdf847bcfcfa332299c572b26819dc38383180bb5b9072\n",
            "  Building wheel for oset (setup.py) ... \u001b[?25l\u001b[?25hdone\n",
            "  Created wheel for oset: filename=oset-0.1.3-py3-none-any.whl size=9682 sha256=ca457074f62ade269d859d7bd74954f5f364a67153df2bcb82126097ee1bbe7a\n",
            "  Stored in directory: /root/.cache/pip/wheels/d3/97/cf/cfafe0bedac445a9492baca15b27f8afb4693182b00a975ac7\n",
            "Successfully built commonmark oset\n",
            "Installing collected packages: latexcodec, sphinxcontrib-qthelp, sphinxcontrib-jsmath, sphinxcontrib-htmlhelp, sphinxcontrib-devhelp, sphinxcontrib-applehelp, pybtex, sphinx, pyflakes, pycodestyle, pybtex-docutils, oset, mccabe, isodate, importlib-metadata, commonmark, sphinxcontrib-bibtex, sphinx-rtd-theme, recommonmark, rdflib, flake8, beautifultable, ampligraph\n",
            "  Attempting uninstall: sphinx\n",
            "    Found existing installation: Sphinx 1.8.6\n",
            "    Uninstalling Sphinx-1.8.6:\n",
            "      Successfully uninstalled Sphinx-1.8.6\n",
            "  Attempting uninstall: importlib-metadata\n",
            "    Found existing installation: importlib-metadata 4.11.0\n",
            "    Uninstalling importlib-metadata-4.11.0:\n",
            "      Successfully uninstalled importlib-metadata-4.11.0\n",
            "\u001b[31mERROR: pip's dependency resolver does not currently take into account all the packages that are installed. This behaviour is the source of the following dependency conflicts.\n",
            "markdown 3.3.6 requires importlib-metadata>=4.4; python_version < \"3.10\", but you have importlib-metadata 4.2.0 which is incompatible.\n",
            "datascience 0.10.6 requires folium==0.2.1, but you have folium 0.8.3 which is incompatible.\u001b[0m\n",
            "Successfully installed ampligraph-1.4.0 beautifultable-1.0.1 commonmark-0.5.4 flake8-4.0.1 importlib-metadata-4.2.0 isodate-0.6.1 latexcodec-2.0.1 mccabe-0.6.1 oset-0.1.3 pybtex-0.24.0 pybtex-docutils-1.0.1 pycodestyle-2.8.0 pyflakes-2.4.0 rdflib-6.1.1 recommonmark-0.4.0 sphinx-2.4.5 sphinx-rtd-theme-0.4.3 sphinxcontrib-applehelp-1.0.2 sphinxcontrib-bibtex-0.4.2 sphinxcontrib-devhelp-1.0.2 sphinxcontrib-htmlhelp-2.0.0 sphinxcontrib-jsmath-1.0.1 sphinxcontrib-qthelp-1.0.3\n"
          ]
        },
        {
          "output_type": "display_data",
          "data": {
            "application/vnd.colab-display-data+json": {
              "pip_warning": {
                "packages": [
                  "sphinxcontrib"
                ]
              }
            }
          },
          "metadata": {}
        },
        {
          "output_type": "stream",
          "name": "stdout",
          "text": [
            "Collecting tensorflow==1.13.2\n",
            "  Downloading tensorflow-1.13.2-cp37-cp37m-manylinux1_x86_64.whl (92.7 MB)\n",
            "\u001b[K     |████████████████████████████████| 92.7 MB 1.3 MB/s \n",
            "\u001b[?25hRequirement already satisfied: gast>=0.2.0 in /usr/local/lib/python3.7/dist-packages (from tensorflow==1.13.2) (0.5.3)\n",
            "Requirement already satisfied: astor>=0.6.0 in /usr/local/lib/python3.7/dist-packages (from tensorflow==1.13.2) (0.8.1)\n",
            "Requirement already satisfied: numpy<2.0,>=1.16.0 in /usr/local/lib/python3.7/dist-packages (from tensorflow==1.13.2) (1.21.5)\n",
            "Requirement already satisfied: wheel>=0.26 in /usr/local/lib/python3.7/dist-packages (from tensorflow==1.13.2) (0.37.1)\n",
            "Requirement already satisfied: grpcio>=1.8.6 in /usr/local/lib/python3.7/dist-packages (from tensorflow==1.13.2) (1.43.0)\n",
            "Requirement already satisfied: protobuf>=3.6.1 in /usr/local/lib/python3.7/dist-packages (from tensorflow==1.13.2) (3.17.3)\n",
            "Requirement already satisfied: keras-preprocessing>=1.0.5 in /usr/local/lib/python3.7/dist-packages (from tensorflow==1.13.2) (1.1.2)\n",
            "Collecting keras-applications>=1.0.6\n",
            "  Downloading Keras_Applications-1.0.8-py3-none-any.whl (50 kB)\n",
            "\u001b[K     |████████████████████████████████| 50 kB 6.9 MB/s \n",
            "\u001b[?25hCollecting tensorflow-estimator<1.14.0rc0,>=1.13.0\n",
            "  Downloading tensorflow_estimator-1.13.0-py2.py3-none-any.whl (367 kB)\n",
            "\u001b[K     |████████████████████████████████| 367 kB 55.3 MB/s \n",
            "\u001b[?25hRequirement already satisfied: termcolor>=1.1.0 in /usr/local/lib/python3.7/dist-packages (from tensorflow==1.13.2) (1.1.0)\n",
            "Requirement already satisfied: six>=1.10.0 in /usr/local/lib/python3.7/dist-packages (from tensorflow==1.13.2) (1.15.0)\n",
            "Requirement already satisfied: absl-py>=0.1.6 in /usr/local/lib/python3.7/dist-packages (from tensorflow==1.13.2) (1.0.0)\n",
            "Collecting tensorboard<1.14.0,>=1.13.0\n",
            "  Downloading tensorboard-1.13.1-py3-none-any.whl (3.2 MB)\n",
            "\u001b[K     |████████████████████████████████| 3.2 MB 43.8 MB/s \n",
            "\u001b[?25hRequirement already satisfied: h5py in /usr/local/lib/python3.7/dist-packages (from keras-applications>=1.0.6->tensorflow==1.13.2) (3.1.0)\n",
            "Requirement already satisfied: werkzeug>=0.11.15 in /usr/local/lib/python3.7/dist-packages (from tensorboard<1.14.0,>=1.13.0->tensorflow==1.13.2) (1.0.1)\n",
            "Requirement already satisfied: markdown>=2.6.8 in /usr/local/lib/python3.7/dist-packages (from tensorboard<1.14.0,>=1.13.0->tensorflow==1.13.2) (3.3.6)\n",
            "Collecting importlib-metadata>=4.4\n",
            "  Downloading importlib_metadata-4.11.1-py3-none-any.whl (17 kB)\n",
            "Requirement already satisfied: typing-extensions>=3.6.4 in /usr/local/lib/python3.7/dist-packages (from importlib-metadata>=4.4->markdown>=2.6.8->tensorboard<1.14.0,>=1.13.0->tensorflow==1.13.2) (3.10.0.2)\n",
            "Requirement already satisfied: zipp>=0.5 in /usr/local/lib/python3.7/dist-packages (from importlib-metadata>=4.4->markdown>=2.6.8->tensorboard<1.14.0,>=1.13.0->tensorflow==1.13.2) (3.7.0)\n",
            "Collecting mock>=2.0.0\n",
            "  Downloading mock-4.0.3-py3-none-any.whl (28 kB)\n",
            "Requirement already satisfied: cached-property in /usr/local/lib/python3.7/dist-packages (from h5py->keras-applications>=1.0.6->tensorflow==1.13.2) (1.5.2)\n",
            "Installing collected packages: importlib-metadata, mock, tensorflow-estimator, tensorboard, keras-applications, tensorflow\n",
            "  Attempting uninstall: importlib-metadata\n",
            "    Found existing installation: importlib-metadata 4.2.0\n",
            "    Uninstalling importlib-metadata-4.2.0:\n",
            "      Successfully uninstalled importlib-metadata-4.2.0\n",
            "  Attempting uninstall: tensorflow-estimator\n",
            "    Found existing installation: tensorflow-estimator 2.8.0\n",
            "    Uninstalling tensorflow-estimator-2.8.0:\n",
            "      Successfully uninstalled tensorflow-estimator-2.8.0\n",
            "  Attempting uninstall: tensorboard\n",
            "    Found existing installation: tensorboard 2.8.0\n",
            "    Uninstalling tensorboard-2.8.0:\n",
            "      Successfully uninstalled tensorboard-2.8.0\n",
            "  Attempting uninstall: tensorflow\n",
            "    Found existing installation: tensorflow 2.8.0\n",
            "    Uninstalling tensorflow-2.8.0:\n",
            "      Successfully uninstalled tensorflow-2.8.0\n",
            "\u001b[31mERROR: pip's dependency resolver does not currently take into account all the packages that are installed. This behaviour is the source of the following dependency conflicts.\n",
            "kapre 0.3.7 requires tensorflow>=2.0.0, but you have tensorflow 1.13.2 which is incompatible.\n",
            "flake8 4.0.1 requires importlib-metadata<4.3; python_version < \"3.8\", but you have importlib-metadata 4.11.1 which is incompatible.\u001b[0m\n",
            "Successfully installed importlib-metadata-4.11.1 keras-applications-1.0.8 mock-4.0.3 tensorboard-1.13.1 tensorflow-1.13.2 tensorflow-estimator-1.13.0\n"
          ]
        }
      ],
      "source": [
        "!pip install ampligraph\n",
        "!pip install tensorflow==1.13.2"
      ]
    },
    {
      "cell_type": "code",
      "execution_count": 4,
      "metadata": {
        "colab": {
          "base_uri": "https://localhost:8080/",
          "height": 264
        },
        "id": "i8Pwae1vh66E",
        "outputId": "7ce172e6-2705-45aa-90cb-07e47ff1e494"
      },
      "outputs": [
        {
          "output_type": "stream",
          "name": "stderr",
          "text": [
            "/usr/local/lib/python3.7/dist-packages/tensorflow/python/framework/dtypes.py:526: FutureWarning: Passing (type, 1) or '1type' as a synonym of type is deprecated; in a future version of numpy, it will be understood as (type, (1,)) / '(1,)type'.\n",
            "  _np_qint8 = np.dtype([(\"qint8\", np.int8, 1)])\n",
            "/usr/local/lib/python3.7/dist-packages/tensorflow/python/framework/dtypes.py:527: FutureWarning: Passing (type, 1) or '1type' as a synonym of type is deprecated; in a future version of numpy, it will be understood as (type, (1,)) / '(1,)type'.\n",
            "  _np_quint8 = np.dtype([(\"quint8\", np.uint8, 1)])\n",
            "/usr/local/lib/python3.7/dist-packages/tensorflow/python/framework/dtypes.py:528: FutureWarning: Passing (type, 1) or '1type' as a synonym of type is deprecated; in a future version of numpy, it will be understood as (type, (1,)) / '(1,)type'.\n",
            "  _np_qint16 = np.dtype([(\"qint16\", np.int16, 1)])\n",
            "/usr/local/lib/python3.7/dist-packages/tensorflow/python/framework/dtypes.py:529: FutureWarning: Passing (type, 1) or '1type' as a synonym of type is deprecated; in a future version of numpy, it will be understood as (type, (1,)) / '(1,)type'.\n",
            "  _np_quint16 = np.dtype([(\"quint16\", np.uint16, 1)])\n",
            "/usr/local/lib/python3.7/dist-packages/tensorflow/python/framework/dtypes.py:530: FutureWarning: Passing (type, 1) or '1type' as a synonym of type is deprecated; in a future version of numpy, it will be understood as (type, (1,)) / '(1,)type'.\n",
            "  _np_qint32 = np.dtype([(\"qint32\", np.int32, 1)])\n",
            "/usr/local/lib/python3.7/dist-packages/tensorflow/python/framework/dtypes.py:535: FutureWarning: Passing (type, 1) or '1type' as a synonym of type is deprecated; in a future version of numpy, it will be understood as (type, (1,)) / '(1,)type'.\n",
            "  np_resource = np.dtype([(\"resource\", np.ubyte, 1)])\n"
          ]
        },
        {
          "output_type": "execute_result",
          "data": {
            "application/vnd.google.colaboratory.intrinsic+json": {
              "type": "string"
            },
            "text/plain": [
              "'1.4.0'"
            ]
          },
          "metadata": {},
          "execution_count": 4
        }
      ],
      "source": [
        "import numpy as np\n",
        "import pandas as pd\n",
        "import ampligraph\n",
        "import tensorflow as tf\n",
        "import requests\n",
        "from ampligraph.datasets import load_from_csv\n",
        "\n",
        "ampligraph.__version__"
      ]
    },
    {
      "cell_type": "markdown",
      "metadata": {
        "id": "fXwip-GULiZI"
      },
      "source": [
        "#EX1: Load Ampligraph Dataset"
      ]
    },
    {
      "cell_type": "code",
      "execution_count": null,
      "metadata": {
        "id": "Ryhj9JDKikT8"
      },
      "outputs": [],
      "source": [
        "'''import requests\n",
        "from ampligraph.datasets import load_from_csv\n",
        "url = 'https://ampligraph.s3-eu-west-1.amazonaws.com/datasets/GoT.csv'\n",
        "open('GoT.csv', 'wb').write(requests.get(url).content) \n",
        "X_ = load_from_csv('.', 'GoT.csv', sep=',')\n",
        "X_'''\n"
      ]
    },
    {
      "cell_type": "markdown",
      "metadata": {
        "id": "UxqBq0dMLmqM"
      },
      "source": [
        "#Load Our Dataset"
      ]
    },
    {
      "cell_type": "markdown",
      "source": [
        "##Generate dbpedia URIs for the dataset "
      ],
      "metadata": {
        "id": "i60gsr0WxDLg"
      }
    },
    {
      "cell_type": "code",
      "execution_count": null,
      "metadata": {
        "id": "FZr5-4tngzyK"
      },
      "outputs": [],
      "source": [
        "##Uncomment next lines if you need\n",
        "import csv \n",
        "\n",
        "df = pd.read_csv('Triple.csv', names=[\"subject\",\"relation\",\"object\"])\n",
        "\n",
        "dbpedia = \"http://dbpedia.org/resource/\"\n",
        "\n",
        "for index,row in df.iterrows():\n",
        "  s = dbpedia + row['subject'].replace(\" \",\"_\")\n",
        "  p = dbpedia + row['relation'].replace(\" \",\"_\")\n",
        "  o = dbpedia + row['object'].replace(\" \",\"_\")\n",
        "  \n",
        "  with open('HP_uri.csv', 'a+',newline='') as f:\n",
        "      writer = csv.writer(f)\n",
        "      writer.writerow([s,p,o])\n",
        "      f.close()\n"
      ]
    },
    {
      "cell_type": "code",
      "execution_count": null,
      "metadata": {
        "colab": {
          "base_uri": "https://localhost:8080/"
        },
        "id": "jr5D58_lOxhR",
        "outputId": "4b205cb5-aae7-44c4-c9a3-8f4dddb2b104"
      },
      "outputs": [
        {
          "output_type": "execute_result",
          "data": {
            "text/plain": [
              "array([['http://dbpedia.org/resource#subject',\n",
              "        'http://dbpedia.org/resource#relation',\n",
              "        'http://dbpedia.org/resource#object'],\n",
              "       ['http://dbpedia.org/resource#central_character',\n",
              "        'http://dbpedia.org/resource#is',\n",
              "        'http://dbpedia.org/resource#Harry_Potter'],\n",
              "       ['http://dbpedia.org/resource#central_character',\n",
              "        'http://dbpedia.org/resource#is',\n",
              "        'http://dbpedia.org/resource#wizard'],\n",
              "       ...,\n",
              "       ['http://dbpedia.org/resource#Harry',\n",
              "        'http://dbpedia.org/resource#awakens_faces',\n",
              "        'http://dbpedia.org/resource#Voldemort'],\n",
              "       ['http://dbpedia.org/resource#curse',\n",
              "        'http://dbpedia.org/resource#rebounds',\n",
              "        'http://dbpedia.org/resource#Harry'],\n",
              "       ['http://dbpedia.org/resource#lives',\n",
              "        'http://dbpedia.org/resource#surviving',\n",
              "        'http://dbpedia.org/resource#characters_effects_Voldemort']],\n",
              "      dtype=object)"
            ]
          },
          "metadata": {},
          "execution_count": 57
        }
      ],
      "source": [
        "with open('HP_uri_2.csv', 'rb') as f:\n",
        "  X = load_from_csv('.','HP_uri_2.csv', sep=',')\n",
        "  #X = X.to_numpy()\n",
        "X"
      ]
    },
    {
      "cell_type": "markdown",
      "source": [
        "#Train/Test"
      ],
      "metadata": {
        "id": "X-mxIJ5dxRNr"
      }
    },
    {
      "cell_type": "code",
      "execution_count": null,
      "metadata": {
        "colab": {
          "base_uri": "https://localhost:8080/"
        },
        "id": "qiVFQkBdioat",
        "outputId": "501ffb25-7f3a-48af-d828-4936bbde1a18"
      },
      "outputs": [
        {
          "output_type": "stream",
          "name": "stdout",
          "text": [
            "Train set size:  (861, 3)\n",
            "Test set size:  (215, 3)\n"
          ]
        }
      ],
      "source": [
        "from ampligraph.evaluation import train_test_split_no_unseen \n",
        "\n",
        "num_test = int(len(X) * (20 / 100))\n",
        "\n",
        "data = {}\n",
        "data['train'], data['test'] = train_test_split_no_unseen(X, test_size=num_test, seed=0, allow_duplication=False) \n",
        "\n",
        "print('Train set size: ', data['train'].shape)\n",
        "print('Test set size: ', data['test'].shape)"
      ]
    },
    {
      "cell_type": "code",
      "source": [
        "from ampligraph.latent_features import HolE\n",
        "\n",
        "#optimizer\n",
        "#adam     MRR = 0.44\n",
        "\n",
        "#loss\n",
        "#pairwise         MRR = 0.36\n",
        "\n",
        "#regularizer\n",
        "#'p':2  MRR = 0.44\n",
        "\n",
        "#lr\n",
        "#1e-4   MRR = 0.36\n",
        "model = HolE(batches_count=100, \n",
        "                seed=0, \n",
        "                epochs=200, \n",
        "                k=150, \n",
        "                eta=5,\n",
        "                optimizer='adam', \n",
        "                optimizer_params={'lr':1e-2}, \n",
        "                loss='multiclass_nll', \n",
        "                regularizer='LP', \n",
        "                regularizer_params={'p':3, 'lambda':1e-5}, \n",
        "                verbose=True)"
      ],
      "metadata": {
        "id": "3P-JY-Xh1o5w"
      },
      "execution_count": null,
      "outputs": []
    },
    {
      "cell_type": "markdown",
      "source": [
        "#Other models"
      ],
      "metadata": {
        "id": "u9Y96zHJxUYT"
      }
    },
    {
      "cell_type": "code",
      "execution_count": null,
      "metadata": {
        "id": "jA9OxgDSitOi"
      },
      "outputs": [],
      "source": [
        "from ampligraph.latent_features import ComplEx\n",
        "\n",
        "#MRR = 0.37\n",
        "model = ComplEx(batches_count=100, \n",
        "                seed=0, \n",
        "                epochs=200, \n",
        "                k=150, \n",
        "                eta=5,\n",
        "                optimizer='adam', \n",
        "                optimizer_params={'lr':1e-3}, #va peggio per 1e-2 e 1e-5\n",
        "                loss='multiclass_nll', \n",
        "                regularizer='LP', \n",
        "                regularizer_params={'p':3, 'lambda':1e-5}, \n",
        "                verbose=True)"
      ]
    },
    {
      "cell_type": "code",
      "source": [
        "from ampligraph.latent_features import TransE\n",
        "\n",
        "#MRR = 0.21\n",
        "model = TransE(batches_count=100, \n",
        "                seed=0, \n",
        "                epochs=200, \n",
        "                k=150, \n",
        "                eta=5,\n",
        "                optimizer='adam', \n",
        "                optimizer_params={'lr':1e-3}, \n",
        "                loss='multiclass_nll', \n",
        "                regularizer='LP', \n",
        "                regularizer_params={'p':3, 'lambda':1e-5}, \n",
        "                verbose=True)"
      ],
      "metadata": {
        "id": "tTURph1S3tZR"
      },
      "execution_count": null,
      "outputs": []
    },
    {
      "cell_type": "code",
      "source": [
        "from ampligraph.latent_features import DistMult\n",
        "\n",
        "#MRR= 0.34\n",
        "model = DistMult(batches_count=100, \n",
        "                seed=0, \n",
        "                epochs=200, \n",
        "                k=150, \n",
        "                eta=5,\n",
        "                optimizer='adam', \n",
        "                optimizer_params={'lr':1e-3}, \n",
        "                loss='multiclass_nll', \n",
        "                regularizer='LP', \n",
        "                regularizer_params={'p':3, 'lambda':1e-5}, \n",
        "                verbose=True)"
      ],
      "metadata": {
        "id": "2BYreBJO5iXh"
      },
      "execution_count": null,
      "outputs": []
    },
    {
      "cell_type": "markdown",
      "source": [
        "#Fit"
      ],
      "metadata": {
        "id": "BLIBvnCOxdFH"
      }
    },
    {
      "cell_type": "code",
      "execution_count": null,
      "metadata": {
        "colab": {
          "base_uri": "https://localhost:8080/"
        },
        "id": "ifsXkAMsjjST",
        "outputId": "401bf285-6646-498a-c203-8dfd4e559a29"
      },
      "outputs": [
        {
          "output_type": "stream",
          "name": "stderr",
          "text": [
            "Average HolE Loss:   0.275317: 100%|██████████| 200/200 [04:08<00:00,  1.24s/epoch]\n"
          ]
        }
      ],
      "source": [
        "tf.logging.set_verbosity(tf.logging.ERROR)\n",
        "\n",
        "model.fit(data['train'], early_stopping = False)"
      ]
    },
    {
      "cell_type": "markdown",
      "source": [
        "#Evaluate Test"
      ],
      "metadata": {
        "id": "XXOR_sjQxfP9"
      }
    },
    {
      "cell_type": "code",
      "execution_count": null,
      "metadata": {
        "colab": {
          "base_uri": "https://localhost:8080/"
        },
        "id": "gAJz8icdjoBs",
        "outputId": "93c5dfb6-3978-489d-b5f8-24852aae56c9"
      },
      "outputs": [
        {
          "output_type": "stream",
          "name": "stdout",
          "text": [
            "WARNING - DeprecationWarning: use_default_protocol will be removed in future. Please use corrupt_side argument instead.\n"
          ]
        },
        {
          "output_type": "stream",
          "name": "stderr",
          "text": [
            "100%|██████████| 215/215 [00:01<00:00, 139.79it/s]\n"
          ]
        }
      ],
      "source": [
        "from ampligraph.evaluation import evaluate_performance\n",
        "\n",
        "filter_triples = np.concatenate((data['train'], data['test']))\n",
        "ranks = evaluate_performance(data['test'], \n",
        "                             model=model, \n",
        "                             filter_triples=filter_triples,   # Corruption strategy filter defined above \n",
        "                             use_default_protocol=True, # corrupt subj and obj separately while evaluating\n",
        "                             verbose=True)"
      ]
    },
    {
      "cell_type": "code",
      "execution_count": null,
      "metadata": {
        "colab": {
          "base_uri": "https://localhost:8080/"
        },
        "id": "ERL8U6dbjsy-",
        "outputId": "aa543cbd-df82-4f93-f164-03345958ab5a"
      },
      "outputs": [
        {
          "output_type": "stream",
          "name": "stdout",
          "text": [
            "MRR: 0.73\n",
            "Hits@10: 0.77\n",
            "Hits@3: 0.75\n",
            "Hits@1: 0.71\n"
          ]
        }
      ],
      "source": [
        "from ampligraph.evaluation import mr_score, mrr_score, hits_at_n_score\n",
        "\n",
        "mrr = mrr_score(ranks)\n",
        "print(\"MRR: %.2f\" % (mrr))\n",
        "\n",
        "hits_10 = hits_at_n_score(ranks, n=10)\n",
        "print(\"Hits@10: %.2f\" % (hits_10))\n",
        "hits_3 = hits_at_n_score(ranks, n=3)\n",
        "print(\"Hits@3: %.2f\" % (hits_3))\n",
        "hits_1 = hits_at_n_score(ranks, n=1)\n",
        "print(\"Hits@1: %.2f\" % (hits_1))"
      ]
    },
    {
      "cell_type": "markdown",
      "source": [
        "#Evaluate Unseen triples"
      ],
      "metadata": {
        "id": "zpJ9KAvIxkah"
      }
    },
    {
      "cell_type": "code",
      "source": [
        "#GoT Unseen Triples\n",
        "X_unseen = np.array([\n",
        "    ['http://dbpedia.org/resource/Jorah_Mormont','http://dbpedia.org/resource/SPOUSE','http://dbpedia.org/resource/Daenerys_Targaryen'],\n",
        "    ['http://dbpedia.org/resource/Tyrion_Lannister','http://dbpedia.org/resource/SPOUSE','http://dbpedia.org/resource/Missandei'],\n",
        "    [\"http://dbpedia.org/resource/King's_Landing\",'http://dbpedia.org/resource/SEAT_OF','http://dbpedia.org/resource/House_Lannister_of_Casterly_Rock'],\n",
        "    ['http://dbpedia.org/resource/Sansa_Stark','http://dbpedia.org/resource/SPOUSE','http://dbpedia.org/resource/Petyr_Baelish'],\n",
        "    ['http://dbpedia.org/resource/Daenerys_Targaryen','http://dbpedia.org/resource/SPOUSE','http://dbpedia.org/resource/Jon_Snow'],\n",
        "    ['http://dbpedia.org/resource/Daenerys_Targaryen','http://dbpedia.org/resource/SPOUSE','http://dbpedia.org/resource/Craster'],\n",
        "    ['http://dbpedia.org/resource/House_Stark_of_Winterfell','http://dbpedia.org/resource/IN_REGION','http://dbpedia.org/resource/The_North'],\n",
        "    ['http://dbpedia.org/resource/House_Stark_of_Winterfell','http://dbpedia.org/resource/IN_REGION','http://dbpedia.org/resource/Dorne'],\n",
        "    ['http://dbpedia.org/resource/House_Tyrell_of_Highgarden','http://dbpedia.org/resource/IN_REGION','http://dbpedia.org/resource/Beyond_the_Wall'],\n",
        "    ['http://dbpedia.org/resource/Brandon_Stark','http://dbpedia.org/resource/ALLIED_WITH','http://dbpedia.org/resource/House_Stark_of_Winterfell'],\n",
        "    ['http://dbpedia.org/resource/Brandon_Stark','http://dbpedia.org/resource/ALLIED_WITH','http://dbpedia.org/resource/House_Lannister_of_Casterly_Rock'],    \n",
        "    ['http://dbpedia.org/resource/Rhaegar_Targaryen','http://dbpedia.org/resource/PARENT_OF','http://dbpedia.org/resource/Jon_Snow'],\n",
        "    ['http://dbpedia.org/resource/House_Hutcheson','http://dbpedia.org/resource/SWORN_TO','http://dbpedia.org/resource/House_Tyrell_of_Highgarden'],\n",
        "    ['http://dbpedia.org/resource/Daenerys_Targaryen','http://dbpedia.org/resource/ALLIED_WITH','http://dbpedia.org/resource/House_Stark_of_Winterfell'],\n",
        "    ['http://dbpedia.org/resource/Daenerys_Targaryen','http://dbpedia.org/resource/ALLIED_WITH','http://dbpedia.org/resource/House_Lannister_of_Casterly_Rock'],\n",
        "    ['http://dbpedia.org/resource/Jaime_Lannister','http://dbpedia.org/resource/PARENT_OF','http://dbpedia.org/resource/Myrcella_Baratheon'],\n",
        "    ['http://dbpedia.org/resource/Robert_I_Baratheon','http://dbpedia.org/resource/PARENT_OF','http://dbpedia.org/resource/Myrcella_Baratheon'],\n",
        "    ['http://dbpedia.org/resource/Cersei_Lannister','http://dbpedia.org/resource/PARENT_OF','http://dbpedia.org/resource/Myrcella_Baratheon'],\n",
        "    ['http://dbpedia.org/resource/Cersei_Lannister','http://dbpedia.org/resource/PARENT_OF','http://dbpedia.org/resource/Brandon_Stark'],\n",
        "    [\"http://dbpedia.org/resource/Tywin_Lannister\",'http://dbpedia.org/resource/PARENT_OF','http://dbpedia.org/resource/Jaime_Lannister'],\n",
        "    [\"http://dbpedia.org/resource/Missandei\",'http://dbpedia.org/resource/SPOUSE','http://dbpedia.org/resource/Grey_Worm'],\n",
        "    [\"http://dbpedia.org/resource/Brienne_of_Tarth\",'http://dbpedia.org/resource/SPOUSE','http://dbpedia.org/resource/Jaime_Lannister']\n",
        "])"
      ],
      "metadata": {
        "id": "7Dp11a_cJKLx"
      },
      "execution_count": null,
      "outputs": []
    },
    {
      "cell_type": "code",
      "source": [
        "#HP_unseen triples\n",
        "\n",
        "df = pd.read_csv('Unseen_uri.csv', names=[\"subject\",\"relation\",\"object\"])\n",
        "X_unseen = df.to_numpy()"
      ],
      "metadata": {
        "id": "CO0ihUCDK-aa"
      },
      "execution_count": null,
      "outputs": []
    },
    {
      "cell_type": "code",
      "source": [
        "#Uncomment next lines in case you want to load trained model\n",
        "'''from ampligraph.utils import restore_model\n",
        "\n",
        "df = pd.read_csv('Unseen_uri.csv', names=[\"subject\",\"relation\",\"object\"])\n",
        "X_unseen = df.to_numpy()\n",
        "filter_triples = np.load('filter_triples.npy', allow_pickle=True)\n",
        "model = restore_model(model_name_path = 'HP_Hole')'''"
      ],
      "metadata": {
        "id": "xZ_9GH7kmSjB"
      },
      "execution_count": 5,
      "outputs": []
    },
    {
      "cell_type": "code",
      "execution_count": 6,
      "metadata": {
        "colab": {
          "base_uri": "https://localhost:8080/"
        },
        "id": "uA-wlI3Wj0Ws",
        "outputId": "3afd9503-a561-4c7d-d471-432df4b667f8"
      },
      "outputs": [
        {
          "output_type": "stream",
          "name": "stderr",
          "text": [
            "100%|██████████| 35/35 [00:00<00:00, 77.17it/s]\n"
          ]
        }
      ],
      "source": [
        "from ampligraph.evaluation import evaluate_performance\n",
        "\n",
        "unseen_filter = np.array(list({tuple(i) for i in np.vstack((filter_triples, X_unseen))}))\n",
        "\n",
        "ranks_unseen = evaluate_performance(\n",
        "    X_unseen, \n",
        "    model=model, \n",
        "    filter_triples=unseen_filter,   # Corruption strategy filter defined above \n",
        "    corrupt_side = 's+o',\n",
        "    use_default_protocol=False, # corrupt subj and obj separately while evaluating\n",
        "    verbose=True\n",
        ")\n",
        "\n",
        "scores = model.predict(X_unseen)"
      ]
    },
    {
      "cell_type": "code",
      "execution_count": 7,
      "metadata": {
        "id": "43f2gxK3j5Bl",
        "colab": {
          "base_uri": "https://localhost:8080/",
          "height": 1000
        },
        "outputId": "44c0cf72-ce6b-4347-d413-a99cd62e2a3e"
      },
      "outputs": [
        {
          "output_type": "execute_result",
          "data": {
            "text/html": [
              "\n",
              "  <div id=\"df-8b0c0276-44a9-4785-9df6-f428ac25a56b\">\n",
              "    <div class=\"colab-df-container\">\n",
              "      <div>\n",
              "<style scoped>\n",
              "    .dataframe tbody tr th:only-of-type {\n",
              "        vertical-align: middle;\n",
              "    }\n",
              "\n",
              "    .dataframe tbody tr th {\n",
              "        vertical-align: top;\n",
              "    }\n",
              "\n",
              "    .dataframe thead th {\n",
              "        text-align: right;\n",
              "    }\n",
              "</style>\n",
              "<table border=\"1\" class=\"dataframe\">\n",
              "  <thead>\n",
              "    <tr style=\"text-align: right;\">\n",
              "      <th></th>\n",
              "      <th>statement</th>\n",
              "      <th>rank</th>\n",
              "      <th>score</th>\n",
              "      <th>prob</th>\n",
              "    </tr>\n",
              "  </thead>\n",
              "  <tbody>\n",
              "    <tr>\n",
              "      <th>30</th>\n",
              "      <td>http://dbpedia.org/resource/Harry http://dbped...</td>\n",
              "      <td>1565</td>\n",
              "      <td>-0.953934</td>\n",
              "      <td>0.278094</td>\n",
              "    </tr>\n",
              "    <tr>\n",
              "      <th>20</th>\n",
              "      <td>http://dbpedia.org/resource/Harry http://dbped...</td>\n",
              "      <td>1351</td>\n",
              "      <td>-0.518585</td>\n",
              "      <td>0.373183</td>\n",
              "    </tr>\n",
              "    <tr>\n",
              "      <th>29</th>\n",
              "      <td>http://dbpedia.org/resource/Hermione http://db...</td>\n",
              "      <td>1482</td>\n",
              "      <td>-0.376428</td>\n",
              "      <td>0.406989</td>\n",
              "    </tr>\n",
              "    <tr>\n",
              "      <th>25</th>\n",
              "      <td>http://dbpedia.org/resource/Tom_Marvolo_Riddle...</td>\n",
              "      <td>1499</td>\n",
              "      <td>-0.250149</td>\n",
              "      <td>0.437787</td>\n",
              "    </tr>\n",
              "    <tr>\n",
              "      <th>10</th>\n",
              "      <td>http://dbpedia.org/resource/Ron http://dbpedia...</td>\n",
              "      <td>1254</td>\n",
              "      <td>-0.183073</td>\n",
              "      <td>0.454359</td>\n",
              "    </tr>\n",
              "    <tr>\n",
              "      <th>24</th>\n",
              "      <td>http://dbpedia.org/resource/Hermione http://db...</td>\n",
              "      <td>1165</td>\n",
              "      <td>-0.167906</td>\n",
              "      <td>0.458122</td>\n",
              "    </tr>\n",
              "    <tr>\n",
              "      <th>32</th>\n",
              "      <td>http://dbpedia.org/resource/Snape http://dbped...</td>\n",
              "      <td>1258</td>\n",
              "      <td>-0.160629</td>\n",
              "      <td>0.459929</td>\n",
              "    </tr>\n",
              "    <tr>\n",
              "      <th>21</th>\n",
              "      <td>http://dbpedia.org/resource/Ron http://dbpedia...</td>\n",
              "      <td>1263</td>\n",
              "      <td>-0.125585</td>\n",
              "      <td>0.468645</td>\n",
              "    </tr>\n",
              "    <tr>\n",
              "      <th>22</th>\n",
              "      <td>http://dbpedia.org/resource/Ron http://dbpedia...</td>\n",
              "      <td>1219</td>\n",
              "      <td>-0.117500</td>\n",
              "      <td>0.470659</td>\n",
              "    </tr>\n",
              "    <tr>\n",
              "      <th>5</th>\n",
              "      <td>http://dbpedia.org/resource/Harry_Potter http:...</td>\n",
              "      <td>1290</td>\n",
              "      <td>-0.088283</td>\n",
              "      <td>0.477944</td>\n",
              "    </tr>\n",
              "    <tr>\n",
              "      <th>0</th>\n",
              "      <td>http://dbpedia.org/resource/central_character ...</td>\n",
              "      <td>800</td>\n",
              "      <td>-0.025634</td>\n",
              "      <td>0.493592</td>\n",
              "    </tr>\n",
              "    <tr>\n",
              "      <th>12</th>\n",
              "      <td>http://dbpedia.org/resource/Hagrid http://dbpe...</td>\n",
              "      <td>727</td>\n",
              "      <td>-0.013045</td>\n",
              "      <td>0.496739</td>\n",
              "    </tr>\n",
              "    <tr>\n",
              "      <th>6</th>\n",
              "      <td>http://dbpedia.org/resource/wizarding_Britain ...</td>\n",
              "      <td>839</td>\n",
              "      <td>-0.010373</td>\n",
              "      <td>0.497407</td>\n",
              "    </tr>\n",
              "    <tr>\n",
              "      <th>17</th>\n",
              "      <td>http://dbpedia.org/resource/Ron_Hermione_drop_...</td>\n",
              "      <td>777</td>\n",
              "      <td>0.013086</td>\n",
              "      <td>0.503271</td>\n",
              "    </tr>\n",
              "    <tr>\n",
              "      <th>31</th>\n",
              "      <td>http://dbpedia.org/resource/Snape http://dbped...</td>\n",
              "      <td>559</td>\n",
              "      <td>0.036759</td>\n",
              "      <td>0.509189</td>\n",
              "    </tr>\n",
              "    <tr>\n",
              "      <th>19</th>\n",
              "      <td>http://dbpedia.org/resource/Harry http://dbped...</td>\n",
              "      <td>584</td>\n",
              "      <td>0.038349</td>\n",
              "      <td>0.509586</td>\n",
              "    </tr>\n",
              "    <tr>\n",
              "      <th>4</th>\n",
              "      <td>http://dbpedia.org/resource/Harry_Potter http:...</td>\n",
              "      <td>433</td>\n",
              "      <td>0.049360</td>\n",
              "      <td>0.512338</td>\n",
              "    </tr>\n",
              "    <tr>\n",
              "      <th>34</th>\n",
              "      <td>http://dbpedia.org/resource/Lupin http://dbped...</td>\n",
              "      <td>399</td>\n",
              "      <td>0.071673</td>\n",
              "      <td>0.517911</td>\n",
              "    </tr>\n",
              "    <tr>\n",
              "      <th>14</th>\n",
              "      <td>http://dbpedia.org/resource/various_memories h...</td>\n",
              "      <td>264</td>\n",
              "      <td>0.109502</td>\n",
              "      <td>0.527348</td>\n",
              "    </tr>\n",
              "    <tr>\n",
              "      <th>3</th>\n",
              "      <td>http://dbpedia.org/resource/Harry_Potter http:...</td>\n",
              "      <td>246</td>\n",
              "      <td>0.117291</td>\n",
              "      <td>0.529289</td>\n",
              "    </tr>\n",
              "    <tr>\n",
              "      <th>16</th>\n",
              "      <td>http://dbpedia.org/resource/Lord_Voldemort htt...</td>\n",
              "      <td>207</td>\n",
              "      <td>0.136899</td>\n",
              "      <td>0.534171</td>\n",
              "    </tr>\n",
              "    <tr>\n",
              "      <th>28</th>\n",
              "      <td>http://dbpedia.org/resource/action http://dbpe...</td>\n",
              "      <td>122</td>\n",
              "      <td>0.137393</td>\n",
              "      <td>0.534294</td>\n",
              "    </tr>\n",
              "    <tr>\n",
              "      <th>27</th>\n",
              "      <td>http://dbpedia.org/resource/Harry_Potter http:...</td>\n",
              "      <td>337</td>\n",
              "      <td>0.154316</td>\n",
              "      <td>0.538503</td>\n",
              "    </tr>\n",
              "    <tr>\n",
              "      <th>26</th>\n",
              "      <td>http://dbpedia.org/resource/Harry http://dbped...</td>\n",
              "      <td>346</td>\n",
              "      <td>0.172388</td>\n",
              "      <td>0.542991</td>\n",
              "    </tr>\n",
              "    <tr>\n",
              "      <th>8</th>\n",
              "      <td>http://dbpedia.org/resource/wizarding_Britain ...</td>\n",
              "      <td>92</td>\n",
              "      <td>0.172465</td>\n",
              "      <td>0.543010</td>\n",
              "    </tr>\n",
              "    <tr>\n",
              "      <th>7</th>\n",
              "      <td>http://dbpedia.org/resource/wizarding_Britain ...</td>\n",
              "      <td>48</td>\n",
              "      <td>0.238476</td>\n",
              "      <td>0.559338</td>\n",
              "    </tr>\n",
              "    <tr>\n",
              "      <th>11</th>\n",
              "      <td>http://dbpedia.org/resource/Ron http://dbpedia...</td>\n",
              "      <td>242</td>\n",
              "      <td>0.240761</td>\n",
              "      <td>0.559901</td>\n",
              "    </tr>\n",
              "    <tr>\n",
              "      <th>1</th>\n",
              "      <td>http://dbpedia.org/resource/central_character ...</td>\n",
              "      <td>123</td>\n",
              "      <td>0.328371</td>\n",
              "      <td>0.581363</td>\n",
              "    </tr>\n",
              "    <tr>\n",
              "      <th>33</th>\n",
              "      <td>http://dbpedia.org/resource/dark_creatures htt...</td>\n",
              "      <td>18</td>\n",
              "      <td>0.422015</td>\n",
              "      <td>0.603965</td>\n",
              "    </tr>\n",
              "    <tr>\n",
              "      <th>13</th>\n",
              "      <td>http://dbpedia.org/resource/Harry http://dbped...</td>\n",
              "      <td>137</td>\n",
              "      <td>0.488822</td>\n",
              "      <td>0.619829</td>\n",
              "    </tr>\n",
              "    <tr>\n",
              "      <th>15</th>\n",
              "      <td>http://dbpedia.org/resource/Harry http://dbped...</td>\n",
              "      <td>21</td>\n",
              "      <td>0.699357</td>\n",
              "      <td>0.668045</td>\n",
              "    </tr>\n",
              "    <tr>\n",
              "      <th>9</th>\n",
              "      <td>http://dbpedia.org/resource/famous_magic_schoo...</td>\n",
              "      <td>11</td>\n",
              "      <td>0.742018</td>\n",
              "      <td>0.677437</td>\n",
              "    </tr>\n",
              "    <tr>\n",
              "      <th>2</th>\n",
              "      <td>http://dbpedia.org/resource/Surrey http://dbpe...</td>\n",
              "      <td>19</td>\n",
              "      <td>0.938016</td>\n",
              "      <td>0.718699</td>\n",
              "    </tr>\n",
              "    <tr>\n",
              "      <th>23</th>\n",
              "      <td>http://dbpedia.org/resource/Ron http://dbpedia...</td>\n",
              "      <td>3</td>\n",
              "      <td>1.302169</td>\n",
              "      <td>0.786200</td>\n",
              "    </tr>\n",
              "    <tr>\n",
              "      <th>18</th>\n",
              "      <td>http://dbpedia.org/resource/Hermione http://db...</td>\n",
              "      <td>3</td>\n",
              "      <td>3.316542</td>\n",
              "      <td>0.964992</td>\n",
              "    </tr>\n",
              "  </tbody>\n",
              "</table>\n",
              "</div>\n",
              "      <button class=\"colab-df-convert\" onclick=\"convertToInteractive('df-8b0c0276-44a9-4785-9df6-f428ac25a56b')\"\n",
              "              title=\"Convert this dataframe to an interactive table.\"\n",
              "              style=\"display:none;\">\n",
              "        \n",
              "  <svg xmlns=\"http://www.w3.org/2000/svg\" height=\"24px\"viewBox=\"0 0 24 24\"\n",
              "       width=\"24px\">\n",
              "    <path d=\"M0 0h24v24H0V0z\" fill=\"none\"/>\n",
              "    <path d=\"M18.56 5.44l.94 2.06.94-2.06 2.06-.94-2.06-.94-.94-2.06-.94 2.06-2.06.94zm-11 1L8.5 8.5l.94-2.06 2.06-.94-2.06-.94L8.5 2.5l-.94 2.06-2.06.94zm10 10l.94 2.06.94-2.06 2.06-.94-2.06-.94-.94-2.06-.94 2.06-2.06.94z\"/><path d=\"M17.41 7.96l-1.37-1.37c-.4-.4-.92-.59-1.43-.59-.52 0-1.04.2-1.43.59L10.3 9.45l-7.72 7.72c-.78.78-.78 2.05 0 2.83L4 21.41c.39.39.9.59 1.41.59.51 0 1.02-.2 1.41-.59l7.78-7.78 2.81-2.81c.8-.78.8-2.07 0-2.86zM5.41 20L4 18.59l7.72-7.72 1.47 1.35L5.41 20z\"/>\n",
              "  </svg>\n",
              "      </button>\n",
              "      \n",
              "  <style>\n",
              "    .colab-df-container {\n",
              "      display:flex;\n",
              "      flex-wrap:wrap;\n",
              "      gap: 12px;\n",
              "    }\n",
              "\n",
              "    .colab-df-convert {\n",
              "      background-color: #E8F0FE;\n",
              "      border: none;\n",
              "      border-radius: 50%;\n",
              "      cursor: pointer;\n",
              "      display: none;\n",
              "      fill: #1967D2;\n",
              "      height: 32px;\n",
              "      padding: 0 0 0 0;\n",
              "      width: 32px;\n",
              "    }\n",
              "\n",
              "    .colab-df-convert:hover {\n",
              "      background-color: #E2EBFA;\n",
              "      box-shadow: 0px 1px 2px rgba(60, 64, 67, 0.3), 0px 1px 3px 1px rgba(60, 64, 67, 0.15);\n",
              "      fill: #174EA6;\n",
              "    }\n",
              "\n",
              "    [theme=dark] .colab-df-convert {\n",
              "      background-color: #3B4455;\n",
              "      fill: #D2E3FC;\n",
              "    }\n",
              "\n",
              "    [theme=dark] .colab-df-convert:hover {\n",
              "      background-color: #434B5C;\n",
              "      box-shadow: 0px 1px 3px 1px rgba(0, 0, 0, 0.15);\n",
              "      filter: drop-shadow(0px 1px 2px rgba(0, 0, 0, 0.3));\n",
              "      fill: #FFFFFF;\n",
              "    }\n",
              "  </style>\n",
              "\n",
              "      <script>\n",
              "        const buttonEl =\n",
              "          document.querySelector('#df-8b0c0276-44a9-4785-9df6-f428ac25a56b button.colab-df-convert');\n",
              "        buttonEl.style.display =\n",
              "          google.colab.kernel.accessAllowed ? 'block' : 'none';\n",
              "\n",
              "        async function convertToInteractive(key) {\n",
              "          const element = document.querySelector('#df-8b0c0276-44a9-4785-9df6-f428ac25a56b');\n",
              "          const dataTable =\n",
              "            await google.colab.kernel.invokeFunction('convertToInteractive',\n",
              "                                                     [key], {});\n",
              "          if (!dataTable) return;\n",
              "\n",
              "          const docLinkHtml = 'Like what you see? Visit the ' +\n",
              "            '<a target=\"_blank\" href=https://colab.research.google.com/notebooks/data_table.ipynb>data table notebook</a>'\n",
              "            + ' to learn more about interactive tables.';\n",
              "          element.innerHTML = '';\n",
              "          dataTable['output_type'] = 'display_data';\n",
              "          await google.colab.output.renderOutput(dataTable, element);\n",
              "          const docLink = document.createElement('div');\n",
              "          docLink.innerHTML = docLinkHtml;\n",
              "          element.appendChild(docLink);\n",
              "        }\n",
              "      </script>\n",
              "    </div>\n",
              "  </div>\n",
              "  "
            ],
            "text/plain": [
              "                                            statement  rank     score      prob\n",
              "30  http://dbpedia.org/resource/Harry http://dbped...  1565 -0.953934  0.278094\n",
              "20  http://dbpedia.org/resource/Harry http://dbped...  1351 -0.518585  0.373183\n",
              "29  http://dbpedia.org/resource/Hermione http://db...  1482 -0.376428  0.406989\n",
              "25  http://dbpedia.org/resource/Tom_Marvolo_Riddle...  1499 -0.250149  0.437787\n",
              "10  http://dbpedia.org/resource/Ron http://dbpedia...  1254 -0.183073  0.454359\n",
              "24  http://dbpedia.org/resource/Hermione http://db...  1165 -0.167906  0.458122\n",
              "32  http://dbpedia.org/resource/Snape http://dbped...  1258 -0.160629  0.459929\n",
              "21  http://dbpedia.org/resource/Ron http://dbpedia...  1263 -0.125585  0.468645\n",
              "22  http://dbpedia.org/resource/Ron http://dbpedia...  1219 -0.117500  0.470659\n",
              "5   http://dbpedia.org/resource/Harry_Potter http:...  1290 -0.088283  0.477944\n",
              "0   http://dbpedia.org/resource/central_character ...   800 -0.025634  0.493592\n",
              "12  http://dbpedia.org/resource/Hagrid http://dbpe...   727 -0.013045  0.496739\n",
              "6   http://dbpedia.org/resource/wizarding_Britain ...   839 -0.010373  0.497407\n",
              "17  http://dbpedia.org/resource/Ron_Hermione_drop_...   777  0.013086  0.503271\n",
              "31  http://dbpedia.org/resource/Snape http://dbped...   559  0.036759  0.509189\n",
              "19  http://dbpedia.org/resource/Harry http://dbped...   584  0.038349  0.509586\n",
              "4   http://dbpedia.org/resource/Harry_Potter http:...   433  0.049360  0.512338\n",
              "34  http://dbpedia.org/resource/Lupin http://dbped...   399  0.071673  0.517911\n",
              "14  http://dbpedia.org/resource/various_memories h...   264  0.109502  0.527348\n",
              "3   http://dbpedia.org/resource/Harry_Potter http:...   246  0.117291  0.529289\n",
              "16  http://dbpedia.org/resource/Lord_Voldemort htt...   207  0.136899  0.534171\n",
              "28  http://dbpedia.org/resource/action http://dbpe...   122  0.137393  0.534294\n",
              "27  http://dbpedia.org/resource/Harry_Potter http:...   337  0.154316  0.538503\n",
              "26  http://dbpedia.org/resource/Harry http://dbped...   346  0.172388  0.542991\n",
              "8   http://dbpedia.org/resource/wizarding_Britain ...    92  0.172465  0.543010\n",
              "7   http://dbpedia.org/resource/wizarding_Britain ...    48  0.238476  0.559338\n",
              "11  http://dbpedia.org/resource/Ron http://dbpedia...   242  0.240761  0.559901\n",
              "1   http://dbpedia.org/resource/central_character ...   123  0.328371  0.581363\n",
              "33  http://dbpedia.org/resource/dark_creatures htt...    18  0.422015  0.603965\n",
              "13  http://dbpedia.org/resource/Harry http://dbped...   137  0.488822  0.619829\n",
              "15  http://dbpedia.org/resource/Harry http://dbped...    21  0.699357  0.668045\n",
              "9   http://dbpedia.org/resource/famous_magic_schoo...    11  0.742018  0.677437\n",
              "2   http://dbpedia.org/resource/Surrey http://dbpe...    19  0.938016  0.718699\n",
              "23  http://dbpedia.org/resource/Ron http://dbpedia...     3  1.302169  0.786200\n",
              "18  http://dbpedia.org/resource/Hermione http://db...     3  3.316542  0.964992"
            ]
          },
          "metadata": {},
          "execution_count": 7
        }
      ],
      "source": [
        "from scipy.special import expit\n",
        "probs = expit(scores)\n",
        "\n",
        "output = pd.DataFrame(list(zip([' '.join(x) for x in X_unseen], \n",
        "                      ranks_unseen, \n",
        "                      np.squeeze(scores),\n",
        "                      np.squeeze(probs))), \n",
        "             columns=['statement', 'rank', 'score', 'prob']).sort_values(\"score\")\n",
        "\n",
        "output"
      ]
    },
    {
      "cell_type": "markdown",
      "source": [
        "#Save Evaluated statements in nt format"
      ],
      "metadata": {
        "id": "zvQT-d57xuW1"
      }
    },
    {
      "cell_type": "code",
      "source": [
        "##Convert triples in nt format\n",
        "import pandas as pd \n",
        "\n",
        "lines = []\n",
        "th = 1000\n",
        "\n",
        "for index, row in output.iterrows():\n",
        "  if row['rank'] < th:\n",
        "      statement = row['statement']\n",
        "\n",
        "      namespace = \"http://dbpedia.org/resource\"\n",
        "\n",
        "      url_subject,url_predicate,url_object = statement.split(\" \")\n",
        "      \n",
        "      url_subject = url_subject.replace(\" \",\"_\")\n",
        "      url_predicate = url_predicate.replace(\" \",\"_\")\n",
        "      url_object = url_object.replace(\" \",\"_\")\n",
        "\n",
        "      subject = url_subject.replace(\"http://dbpedia.org/resource/\" , \"\")\n",
        "      predicate = url_predicate.replace(\"http://dbpedia.org/resource/\", \"\")\n",
        "      objectt = url_object.replace(\"http://dbpedia.org/resource/\", \"\")\n",
        "\n",
        "      #Subject type\n",
        "      lines.append(\"<\" + namespace + \"#\" + subject + \">\" +\n",
        "                   \" <http://www.w3.org/1999/02/22-rdf-syntax-ns#type>\" +  \n",
        "                   \" <\" + namespace + \"#subject> .\")\n",
        "      #Subject name\n",
        "      lines.append(\"<\" + namespace + \"#\" + subject + \">\" +\n",
        "                   \" <\" + namespace + \"#name>\" +\n",
        "                   \" \\\"\" + subject + \"\\\" .\")\n",
        "      #Subject link\n",
        "      lines.append(\"<\" + namespace + \"#\" + subject + \">\" +\n",
        "                   \" <\" + namespace + \"#link>\" + \n",
        "                   \" \\\"\" + url_subject + \"\\\" .\")\n",
        "     \n",
        "      #Object type\n",
        "      lines.append(\"<\" + namespace + \"#\" + objectt + \">\" +\n",
        "                   \" <http://www.w3.org/1999/02/22-rdf-syntax-ns#type>\" +  \n",
        "                   \" <\" + namespace + \"#object> .\")\n",
        "      #Object name\n",
        "      lines.append(\"<\" + namespace + \"#\" + objectt + \">\" +\n",
        "                   \" <\" + namespace + \"#name>\" +\n",
        "                   \" \\\"\" + objectt + \"\\\" .\")\n",
        "      #Object link\n",
        "      lines.append(\"<\" + namespace + \"#\" + subject + \">\" +\n",
        "                   \" <\" + namespace + \"#link>\" + \n",
        "                   \" \\\"\" + url_subject + \"\\\" .\")\n",
        "      #Triple\n",
        "      s = \"<\" + namespace + \"#\" + subject + \">\"\n",
        "      p = \"<\" + url_predicate + \">\"\n",
        "      o = \"<\" + namespace + \"#\" + objectt + \"> .\"\n",
        "      lines.append(s + \" \" + p + \" \" + o)\n",
        "\n",
        "with open('triples_5.nt', 'w+') as f:\n",
        "    f.write('\\n'.join(lines))"
      ],
      "metadata": {
        "id": "uoQ8ydbZsRf9"
      },
      "execution_count": 15,
      "outputs": []
    }
  ],
  "metadata": {
    "colab": {
      "collapsed_sections": [],
      "name": "TS_Gruppo1.ipynb",
      "provenance": []
    },
    "kernelspec": {
      "display_name": "Python 3",
      "name": "python3"
    },
    "language_info": {
      "name": "python"
    }
  },
  "nbformat": 4,
  "nbformat_minor": 0
}